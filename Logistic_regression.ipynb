{
  "cells": [
    {
      "cell_type": "markdown",
      "metadata": {
        "id": "5Rl7sxfNnFI8"
      },
      "source": [
        "## Подготовка данных"
      ]
    },
    {
      "cell_type": "code",
      "execution_count": 1,
      "metadata": {
        "id": "bLs_L5CSnFI8"
      },
      "outputs": [],
      "source": [
        "import matplotlib.pyplot as plt\n",
        "import numpy as np\n",
        "import pandas as pd\n",
        "from sklearn.model_selection import train_test_split\n",
        "from sklearn.linear_model import LogisticRegression\n",
        "from sklearn.tree import DecisionTreeClassifier\n",
        "from sklearn.ensemble import RandomForestClassifier\n",
        "from sklearn.naive_bayes import GaussianNB\n",
        "from sklearn.metrics import f1_score, precision_score, recall_score, accuracy_score, roc_auc_score, roc_curve\n",
        "from sklearn.utils import shuffle\n",
        "from sklearn.preprocessing import StandardScaler\n",
        "import warnings\n",
        "warnings.filterwarnings(\"ignore\")"
      ]
    },
    {
      "cell_type": "markdown",
      "metadata": {
        "id": "RcccmnTbnFI9"
      },
      "source": [
        "*Пояснение действий:*\n",
        "1. Загрузил все необходимые библиотеки"
      ]
    },
    {
      "cell_type": "code",
      "execution_count": 2,
      "metadata": {
        "id": "rplldUhLnFI9"
      },
      "outputs": [],
      "source": [
        "df = pd.read_csv('/content/sample_data/Churn.csv')"
      ]
    },
    {
      "cell_type": "code",
      "execution_count": 3,
      "metadata": {
        "colab": {
          "base_uri": "https://localhost:8080/",
          "height": 424
        },
        "id": "DHMrP6MYnFI-",
        "outputId": "652393d3-3f9e-43ec-f658-ba7b9fd2df82"
      },
      "outputs": [
        {
          "output_type": "display_data",
          "data": {
            "text/plain": [
              "      RowNumber  CustomerId    Surname  CreditScore Geography  Gender  Age  \\\n",
              "0             1    15634602   Hargrave          619    France  Female   42   \n",
              "1             2    15647311       Hill          608     Spain  Female   41   \n",
              "2             3    15619304       Onio          502    France  Female   42   \n",
              "3             4    15701354       Boni          699    France  Female   39   \n",
              "4             5    15737888   Mitchell          850     Spain  Female   43   \n",
              "...         ...         ...        ...          ...       ...     ...  ...   \n",
              "9995       9996    15606229   Obijiaku          771    France    Male   39   \n",
              "9996       9997    15569892  Johnstone          516    France    Male   35   \n",
              "9997       9998    15584532        Liu          709    France  Female   36   \n",
              "9998       9999    15682355  Sabbatini          772   Germany    Male   42   \n",
              "9999      10000    15628319     Walker          792    France  Female   28   \n",
              "\n",
              "      Tenure    Balance  NumOfProducts  HasCrCard  IsActiveMember  \\\n",
              "0        2.0       0.00              1          1               1   \n",
              "1        1.0   83807.86              1          0               1   \n",
              "2        8.0  159660.80              3          1               0   \n",
              "3        1.0       0.00              2          0               0   \n",
              "4        2.0  125510.82              1          1               1   \n",
              "...      ...        ...            ...        ...             ...   \n",
              "9995     5.0       0.00              2          1               0   \n",
              "9996    10.0   57369.61              1          1               1   \n",
              "9997     7.0       0.00              1          0               1   \n",
              "9998     3.0   75075.31              2          1               0   \n",
              "9999     NaN  130142.79              1          1               0   \n",
              "\n",
              "      EstimatedSalary  Exited  \n",
              "0           101348.88       1  \n",
              "1           112542.58       0  \n",
              "2           113931.57       1  \n",
              "3            93826.63       0  \n",
              "4            79084.10       0  \n",
              "...               ...     ...  \n",
              "9995         96270.64       0  \n",
              "9996        101699.77       0  \n",
              "9997         42085.58       1  \n",
              "9998         92888.52       1  \n",
              "9999         38190.78       0  \n",
              "\n",
              "[10000 rows x 14 columns]"
            ],
            "text/html": [
              "\n",
              "  <div id=\"df-1b278ec0-fb27-4326-8757-2b70267b3b1c\" class=\"colab-df-container\">\n",
              "    <div>\n",
              "<style scoped>\n",
              "    .dataframe tbody tr th:only-of-type {\n",
              "        vertical-align: middle;\n",
              "    }\n",
              "\n",
              "    .dataframe tbody tr th {\n",
              "        vertical-align: top;\n",
              "    }\n",
              "\n",
              "    .dataframe thead th {\n",
              "        text-align: right;\n",
              "    }\n",
              "</style>\n",
              "<table border=\"1\" class=\"dataframe\">\n",
              "  <thead>\n",
              "    <tr style=\"text-align: right;\">\n",
              "      <th></th>\n",
              "      <th>RowNumber</th>\n",
              "      <th>CustomerId</th>\n",
              "      <th>Surname</th>\n",
              "      <th>CreditScore</th>\n",
              "      <th>Geography</th>\n",
              "      <th>Gender</th>\n",
              "      <th>Age</th>\n",
              "      <th>Tenure</th>\n",
              "      <th>Balance</th>\n",
              "      <th>NumOfProducts</th>\n",
              "      <th>HasCrCard</th>\n",
              "      <th>IsActiveMember</th>\n",
              "      <th>EstimatedSalary</th>\n",
              "      <th>Exited</th>\n",
              "    </tr>\n",
              "  </thead>\n",
              "  <tbody>\n",
              "    <tr>\n",
              "      <th>0</th>\n",
              "      <td>1</td>\n",
              "      <td>15634602</td>\n",
              "      <td>Hargrave</td>\n",
              "      <td>619</td>\n",
              "      <td>France</td>\n",
              "      <td>Female</td>\n",
              "      <td>42</td>\n",
              "      <td>2.0</td>\n",
              "      <td>0.00</td>\n",
              "      <td>1</td>\n",
              "      <td>1</td>\n",
              "      <td>1</td>\n",
              "      <td>101348.88</td>\n",
              "      <td>1</td>\n",
              "    </tr>\n",
              "    <tr>\n",
              "      <th>1</th>\n",
              "      <td>2</td>\n",
              "      <td>15647311</td>\n",
              "      <td>Hill</td>\n",
              "      <td>608</td>\n",
              "      <td>Spain</td>\n",
              "      <td>Female</td>\n",
              "      <td>41</td>\n",
              "      <td>1.0</td>\n",
              "      <td>83807.86</td>\n",
              "      <td>1</td>\n",
              "      <td>0</td>\n",
              "      <td>1</td>\n",
              "      <td>112542.58</td>\n",
              "      <td>0</td>\n",
              "    </tr>\n",
              "    <tr>\n",
              "      <th>2</th>\n",
              "      <td>3</td>\n",
              "      <td>15619304</td>\n",
              "      <td>Onio</td>\n",
              "      <td>502</td>\n",
              "      <td>France</td>\n",
              "      <td>Female</td>\n",
              "      <td>42</td>\n",
              "      <td>8.0</td>\n",
              "      <td>159660.80</td>\n",
              "      <td>3</td>\n",
              "      <td>1</td>\n",
              "      <td>0</td>\n",
              "      <td>113931.57</td>\n",
              "      <td>1</td>\n",
              "    </tr>\n",
              "    <tr>\n",
              "      <th>3</th>\n",
              "      <td>4</td>\n",
              "      <td>15701354</td>\n",
              "      <td>Boni</td>\n",
              "      <td>699</td>\n",
              "      <td>France</td>\n",
              "      <td>Female</td>\n",
              "      <td>39</td>\n",
              "      <td>1.0</td>\n",
              "      <td>0.00</td>\n",
              "      <td>2</td>\n",
              "      <td>0</td>\n",
              "      <td>0</td>\n",
              "      <td>93826.63</td>\n",
              "      <td>0</td>\n",
              "    </tr>\n",
              "    <tr>\n",
              "      <th>4</th>\n",
              "      <td>5</td>\n",
              "      <td>15737888</td>\n",
              "      <td>Mitchell</td>\n",
              "      <td>850</td>\n",
              "      <td>Spain</td>\n",
              "      <td>Female</td>\n",
              "      <td>43</td>\n",
              "      <td>2.0</td>\n",
              "      <td>125510.82</td>\n",
              "      <td>1</td>\n",
              "      <td>1</td>\n",
              "      <td>1</td>\n",
              "      <td>79084.10</td>\n",
              "      <td>0</td>\n",
              "    </tr>\n",
              "    <tr>\n",
              "      <th>...</th>\n",
              "      <td>...</td>\n",
              "      <td>...</td>\n",
              "      <td>...</td>\n",
              "      <td>...</td>\n",
              "      <td>...</td>\n",
              "      <td>...</td>\n",
              "      <td>...</td>\n",
              "      <td>...</td>\n",
              "      <td>...</td>\n",
              "      <td>...</td>\n",
              "      <td>...</td>\n",
              "      <td>...</td>\n",
              "      <td>...</td>\n",
              "      <td>...</td>\n",
              "    </tr>\n",
              "    <tr>\n",
              "      <th>9995</th>\n",
              "      <td>9996</td>\n",
              "      <td>15606229</td>\n",
              "      <td>Obijiaku</td>\n",
              "      <td>771</td>\n",
              "      <td>France</td>\n",
              "      <td>Male</td>\n",
              "      <td>39</td>\n",
              "      <td>5.0</td>\n",
              "      <td>0.00</td>\n",
              "      <td>2</td>\n",
              "      <td>1</td>\n",
              "      <td>0</td>\n",
              "      <td>96270.64</td>\n",
              "      <td>0</td>\n",
              "    </tr>\n",
              "    <tr>\n",
              "      <th>9996</th>\n",
              "      <td>9997</td>\n",
              "      <td>15569892</td>\n",
              "      <td>Johnstone</td>\n",
              "      <td>516</td>\n",
              "      <td>France</td>\n",
              "      <td>Male</td>\n",
              "      <td>35</td>\n",
              "      <td>10.0</td>\n",
              "      <td>57369.61</td>\n",
              "      <td>1</td>\n",
              "      <td>1</td>\n",
              "      <td>1</td>\n",
              "      <td>101699.77</td>\n",
              "      <td>0</td>\n",
              "    </tr>\n",
              "    <tr>\n",
              "      <th>9997</th>\n",
              "      <td>9998</td>\n",
              "      <td>15584532</td>\n",
              "      <td>Liu</td>\n",
              "      <td>709</td>\n",
              "      <td>France</td>\n",
              "      <td>Female</td>\n",
              "      <td>36</td>\n",
              "      <td>7.0</td>\n",
              "      <td>0.00</td>\n",
              "      <td>1</td>\n",
              "      <td>0</td>\n",
              "      <td>1</td>\n",
              "      <td>42085.58</td>\n",
              "      <td>1</td>\n",
              "    </tr>\n",
              "    <tr>\n",
              "      <th>9998</th>\n",
              "      <td>9999</td>\n",
              "      <td>15682355</td>\n",
              "      <td>Sabbatini</td>\n",
              "      <td>772</td>\n",
              "      <td>Germany</td>\n",
              "      <td>Male</td>\n",
              "      <td>42</td>\n",
              "      <td>3.0</td>\n",
              "      <td>75075.31</td>\n",
              "      <td>2</td>\n",
              "      <td>1</td>\n",
              "      <td>0</td>\n",
              "      <td>92888.52</td>\n",
              "      <td>1</td>\n",
              "    </tr>\n",
              "    <tr>\n",
              "      <th>9999</th>\n",
              "      <td>10000</td>\n",
              "      <td>15628319</td>\n",
              "      <td>Walker</td>\n",
              "      <td>792</td>\n",
              "      <td>France</td>\n",
              "      <td>Female</td>\n",
              "      <td>28</td>\n",
              "      <td>NaN</td>\n",
              "      <td>130142.79</td>\n",
              "      <td>1</td>\n",
              "      <td>1</td>\n",
              "      <td>0</td>\n",
              "      <td>38190.78</td>\n",
              "      <td>0</td>\n",
              "    </tr>\n",
              "  </tbody>\n",
              "</table>\n",
              "<p>10000 rows × 14 columns</p>\n",
              "</div>\n",
              "    <div class=\"colab-df-buttons\">\n",
              "\n",
              "  <div class=\"colab-df-container\">\n",
              "    <button class=\"colab-df-convert\" onclick=\"convertToInteractive('df-1b278ec0-fb27-4326-8757-2b70267b3b1c')\"\n",
              "            title=\"Convert this dataframe to an interactive table.\"\n",
              "            style=\"display:none;\">\n",
              "\n",
              "  <svg xmlns=\"http://www.w3.org/2000/svg\" height=\"24px\" viewBox=\"0 -960 960 960\">\n",
              "    <path d=\"M120-120v-720h720v720H120Zm60-500h600v-160H180v160Zm220 220h160v-160H400v160Zm0 220h160v-160H400v160ZM180-400h160v-160H180v160Zm440 0h160v-160H620v160ZM180-180h160v-160H180v160Zm440 0h160v-160H620v160Z\"/>\n",
              "  </svg>\n",
              "    </button>\n",
              "\n",
              "  <style>\n",
              "    .colab-df-container {\n",
              "      display:flex;\n",
              "      gap: 12px;\n",
              "    }\n",
              "\n",
              "    .colab-df-convert {\n",
              "      background-color: #E8F0FE;\n",
              "      border: none;\n",
              "      border-radius: 50%;\n",
              "      cursor: pointer;\n",
              "      display: none;\n",
              "      fill: #1967D2;\n",
              "      height: 32px;\n",
              "      padding: 0 0 0 0;\n",
              "      width: 32px;\n",
              "    }\n",
              "\n",
              "    .colab-df-convert:hover {\n",
              "      background-color: #E2EBFA;\n",
              "      box-shadow: 0px 1px 2px rgba(60, 64, 67, 0.3), 0px 1px 3px 1px rgba(60, 64, 67, 0.15);\n",
              "      fill: #174EA6;\n",
              "    }\n",
              "\n",
              "    .colab-df-buttons div {\n",
              "      margin-bottom: 4px;\n",
              "    }\n",
              "\n",
              "    [theme=dark] .colab-df-convert {\n",
              "      background-color: #3B4455;\n",
              "      fill: #D2E3FC;\n",
              "    }\n",
              "\n",
              "    [theme=dark] .colab-df-convert:hover {\n",
              "      background-color: #434B5C;\n",
              "      box-shadow: 0px 1px 3px 1px rgba(0, 0, 0, 0.15);\n",
              "      filter: drop-shadow(0px 1px 2px rgba(0, 0, 0, 0.3));\n",
              "      fill: #FFFFFF;\n",
              "    }\n",
              "  </style>\n",
              "\n",
              "    <script>\n",
              "      const buttonEl =\n",
              "        document.querySelector('#df-1b278ec0-fb27-4326-8757-2b70267b3b1c button.colab-df-convert');\n",
              "      buttonEl.style.display =\n",
              "        google.colab.kernel.accessAllowed ? 'block' : 'none';\n",
              "\n",
              "      async function convertToInteractive(key) {\n",
              "        const element = document.querySelector('#df-1b278ec0-fb27-4326-8757-2b70267b3b1c');\n",
              "        const dataTable =\n",
              "          await google.colab.kernel.invokeFunction('convertToInteractive',\n",
              "                                                    [key], {});\n",
              "        if (!dataTable) return;\n",
              "\n",
              "        const docLinkHtml = 'Like what you see? Visit the ' +\n",
              "          '<a target=\"_blank\" href=https://colab.research.google.com/notebooks/data_table.ipynb>data table notebook</a>'\n",
              "          + ' to learn more about interactive tables.';\n",
              "        element.innerHTML = '';\n",
              "        dataTable['output_type'] = 'display_data';\n",
              "        await google.colab.output.renderOutput(dataTable, element);\n",
              "        const docLink = document.createElement('div');\n",
              "        docLink.innerHTML = docLinkHtml;\n",
              "        element.appendChild(docLink);\n",
              "      }\n",
              "    </script>\n",
              "  </div>\n",
              "\n",
              "\n",
              "<div id=\"df-cd173ab0-b9b4-41f5-916d-1e1045cfd264\">\n",
              "  <button class=\"colab-df-quickchart\" onclick=\"quickchart('df-cd173ab0-b9b4-41f5-916d-1e1045cfd264')\"\n",
              "            title=\"Suggest charts\"\n",
              "            style=\"display:none;\">\n",
              "\n",
              "<svg xmlns=\"http://www.w3.org/2000/svg\" height=\"24px\"viewBox=\"0 0 24 24\"\n",
              "     width=\"24px\">\n",
              "    <g>\n",
              "        <path d=\"M19 3H5c-1.1 0-2 .9-2 2v14c0 1.1.9 2 2 2h14c1.1 0 2-.9 2-2V5c0-1.1-.9-2-2-2zM9 17H7v-7h2v7zm4 0h-2V7h2v10zm4 0h-2v-4h2v4z\"/>\n",
              "    </g>\n",
              "</svg>\n",
              "  </button>\n",
              "\n",
              "<style>\n",
              "  .colab-df-quickchart {\n",
              "      --bg-color: #E8F0FE;\n",
              "      --fill-color: #1967D2;\n",
              "      --hover-bg-color: #E2EBFA;\n",
              "      --hover-fill-color: #174EA6;\n",
              "      --disabled-fill-color: #AAA;\n",
              "      --disabled-bg-color: #DDD;\n",
              "  }\n",
              "\n",
              "  [theme=dark] .colab-df-quickchart {\n",
              "      --bg-color: #3B4455;\n",
              "      --fill-color: #D2E3FC;\n",
              "      --hover-bg-color: #434B5C;\n",
              "      --hover-fill-color: #FFFFFF;\n",
              "      --disabled-bg-color: #3B4455;\n",
              "      --disabled-fill-color: #666;\n",
              "  }\n",
              "\n",
              "  .colab-df-quickchart {\n",
              "    background-color: var(--bg-color);\n",
              "    border: none;\n",
              "    border-radius: 50%;\n",
              "    cursor: pointer;\n",
              "    display: none;\n",
              "    fill: var(--fill-color);\n",
              "    height: 32px;\n",
              "    padding: 0;\n",
              "    width: 32px;\n",
              "  }\n",
              "\n",
              "  .colab-df-quickchart:hover {\n",
              "    background-color: var(--hover-bg-color);\n",
              "    box-shadow: 0 1px 2px rgba(60, 64, 67, 0.3), 0 1px 3px 1px rgba(60, 64, 67, 0.15);\n",
              "    fill: var(--button-hover-fill-color);\n",
              "  }\n",
              "\n",
              "  .colab-df-quickchart-complete:disabled,\n",
              "  .colab-df-quickchart-complete:disabled:hover {\n",
              "    background-color: var(--disabled-bg-color);\n",
              "    fill: var(--disabled-fill-color);\n",
              "    box-shadow: none;\n",
              "  }\n",
              "\n",
              "  .colab-df-spinner {\n",
              "    border: 2px solid var(--fill-color);\n",
              "    border-color: transparent;\n",
              "    border-bottom-color: var(--fill-color);\n",
              "    animation:\n",
              "      spin 1s steps(1) infinite;\n",
              "  }\n",
              "\n",
              "  @keyframes spin {\n",
              "    0% {\n",
              "      border-color: transparent;\n",
              "      border-bottom-color: var(--fill-color);\n",
              "      border-left-color: var(--fill-color);\n",
              "    }\n",
              "    20% {\n",
              "      border-color: transparent;\n",
              "      border-left-color: var(--fill-color);\n",
              "      border-top-color: var(--fill-color);\n",
              "    }\n",
              "    30% {\n",
              "      border-color: transparent;\n",
              "      border-left-color: var(--fill-color);\n",
              "      border-top-color: var(--fill-color);\n",
              "      border-right-color: var(--fill-color);\n",
              "    }\n",
              "    40% {\n",
              "      border-color: transparent;\n",
              "      border-right-color: var(--fill-color);\n",
              "      border-top-color: var(--fill-color);\n",
              "    }\n",
              "    60% {\n",
              "      border-color: transparent;\n",
              "      border-right-color: var(--fill-color);\n",
              "    }\n",
              "    80% {\n",
              "      border-color: transparent;\n",
              "      border-right-color: var(--fill-color);\n",
              "      border-bottom-color: var(--fill-color);\n",
              "    }\n",
              "    90% {\n",
              "      border-color: transparent;\n",
              "      border-bottom-color: var(--fill-color);\n",
              "    }\n",
              "  }\n",
              "</style>\n",
              "\n",
              "  <script>\n",
              "    async function quickchart(key) {\n",
              "      const quickchartButtonEl =\n",
              "        document.querySelector('#' + key + ' button');\n",
              "      quickchartButtonEl.disabled = true;  // To prevent multiple clicks.\n",
              "      quickchartButtonEl.classList.add('colab-df-spinner');\n",
              "      try {\n",
              "        const charts = await google.colab.kernel.invokeFunction(\n",
              "            'suggestCharts', [key], {});\n",
              "      } catch (error) {\n",
              "        console.error('Error during call to suggestCharts:', error);\n",
              "      }\n",
              "      quickchartButtonEl.classList.remove('colab-df-spinner');\n",
              "      quickchartButtonEl.classList.add('colab-df-quickchart-complete');\n",
              "    }\n",
              "    (() => {\n",
              "      let quickchartButtonEl =\n",
              "        document.querySelector('#df-cd173ab0-b9b4-41f5-916d-1e1045cfd264 button');\n",
              "      quickchartButtonEl.style.display =\n",
              "        google.colab.kernel.accessAllowed ? 'block' : 'none';\n",
              "    })();\n",
              "  </script>\n",
              "</div>\n",
              "    </div>\n",
              "  </div>\n"
            ]
          },
          "metadata": {}
        }
      ],
      "source": [
        "display(df)"
      ]
    },
    {
      "cell_type": "markdown",
      "metadata": {
        "id": "dTkVjfvVnFI_"
      },
      "source": [
        "Пояснения данных:\n",
        "RowNumber — индекс строки в данных\n",
        "\n",
        "CustomerId — уникальный идентификатор клиента\n",
        "\n",
        "Surname — фамилия\n",
        "\n",
        "CreditScore — кредитный рейтинг\n",
        "\n",
        "Geography — страна проживания\n",
        "\n",
        "Gender — пол\n",
        "\n",
        "Age — возраст\n",
        "\n",
        "Tenure — количество недвижимости у клиента\n",
        "\n",
        "Balance — баланс на счёте\n",
        "\n",
        "NumOfProducts — количество продуктов банка, используемых клиентом\n",
        "\n",
        "HasCrCard — наличие кредитной карты (1 - есть, 0 - нет)\n",
        "\n",
        "IsActiveMember — активность клиента (1 - есть, 0 - нет)\n",
        "\n",
        "EstimatedSalary — предполагаемая зарплата\n",
        "\n",
        "Exited — факт ухода клиента (1 - да, 0 - нет)"
      ]
    },
    {
      "cell_type": "code",
      "execution_count": 4,
      "metadata": {
        "scrolled": true,
        "colab": {
          "base_uri": "https://localhost:8080/"
        },
        "id": "dzxoOB1ZnFJA",
        "outputId": "cc06483e-920c-44bc-ac4b-16ba9b1daf81"
      },
      "outputs": [
        {
          "output_type": "stream",
          "name": "stdout",
          "text": [
            "<class 'pandas.core.frame.DataFrame'>\n",
            "RangeIndex: 10000 entries, 0 to 9999\n",
            "Data columns (total 14 columns):\n",
            " #   Column           Non-Null Count  Dtype  \n",
            "---  ------           --------------  -----  \n",
            " 0   RowNumber        10000 non-null  int64  \n",
            " 1   CustomerId       10000 non-null  int64  \n",
            " 2   Surname          10000 non-null  object \n",
            " 3   CreditScore      10000 non-null  int64  \n",
            " 4   Geography        10000 non-null  object \n",
            " 5   Gender           10000 non-null  object \n",
            " 6   Age              10000 non-null  int64  \n",
            " 7   Tenure           9091 non-null   float64\n",
            " 8   Balance          10000 non-null  float64\n",
            " 9   NumOfProducts    10000 non-null  int64  \n",
            " 10  HasCrCard        10000 non-null  int64  \n",
            " 11  IsActiveMember   10000 non-null  int64  \n",
            " 12  EstimatedSalary  10000 non-null  float64\n",
            " 13  Exited           10000 non-null  int64  \n",
            "dtypes: float64(3), int64(8), object(3)\n",
            "memory usage: 1.1+ MB\n"
          ]
        }
      ],
      "source": [
        "df.info()"
      ]
    },
    {
      "cell_type": "code",
      "execution_count": 5,
      "metadata": {
        "colab": {
          "base_uri": "https://localhost:8080/"
        },
        "id": "0v5BHeRanFJA",
        "outputId": "53d6409a-0087-48ec-806c-805814bad02c"
      },
      "outputs": [
        {
          "output_type": "execute_result",
          "data": {
            "text/plain": [
              "RowNumber            0\n",
              "CustomerId           0\n",
              "Surname              0\n",
              "CreditScore          0\n",
              "Geography            0\n",
              "Gender               0\n",
              "Age                  0\n",
              "Tenure             909\n",
              "Balance              0\n",
              "NumOfProducts        0\n",
              "HasCrCard            0\n",
              "IsActiveMember       0\n",
              "EstimatedSalary      0\n",
              "Exited               0\n",
              "dtype: int64"
            ]
          },
          "metadata": {},
          "execution_count": 5
        }
      ],
      "source": [
        "df.isna().sum()"
      ]
    },
    {
      "cell_type": "markdown",
      "metadata": {
        "id": "RZBL5N5pnFJA"
      },
      "source": [
        "*Пояснение действий:*\n",
        "1. Исследовал данные, в столбце Tenure — количество недвижимости у клиента, обнаружил 909 пропусков. Скорее всего в этом случае недвижимости просто нет, т.к. в банковском деле заполнение этой графы немало важно, поэтому принимаю решение заполнить 0."
      ]
    },
    {
      "cell_type": "code",
      "execution_count": 6,
      "metadata": {
        "colab": {
          "base_uri": "https://localhost:8080/"
        },
        "id": "0Yiy0MIBnFJB",
        "outputId": "08a0309f-0f32-4748-92c4-21653e5b94cd"
      },
      "outputs": [
        {
          "output_type": "execute_result",
          "data": {
            "text/plain": [
              "array([ 2.,  1.,  8.,  7.,  4.,  6.,  3., 10.,  5.,  9.,  0., nan])"
            ]
          },
          "metadata": {},
          "execution_count": 6
        }
      ],
      "source": [
        "df['Tenure'].unique()"
      ]
    },
    {
      "cell_type": "code",
      "execution_count": 7,
      "metadata": {
        "colab": {
          "base_uri": "https://localhost:8080/"
        },
        "id": "K9LyreRqnFJB",
        "outputId": "43d8fa69-b265-4e3b-9c47-4fcefc14de3e"
      },
      "outputs": [
        {
          "output_type": "execute_result",
          "data": {
            "text/plain": [
              "False    9618\n",
              "True      382\n",
              "Name: Tenure, dtype: int64"
            ]
          },
          "metadata": {},
          "execution_count": 7
        }
      ],
      "source": [
        "(df['Tenure']==0).value_counts()"
      ]
    },
    {
      "cell_type": "code",
      "execution_count": 8,
      "metadata": {
        "colab": {
          "base_uri": "https://localhost:8080/"
        },
        "id": "d3c-U-CMnFJB",
        "outputId": "e47749da-319a-4f0e-d876-c069594ed24c"
      },
      "outputs": [
        {
          "output_type": "execute_result",
          "data": {
            "text/plain": [
              "array([ 2.,  1.,  8.,  7.,  4.,  6.,  3., 10.,  5.,  9.,  0.])"
            ]
          },
          "metadata": {},
          "execution_count": 8
        }
      ],
      "source": [
        "df['Tenure'] = df['Tenure'].fillna(0)\n",
        "df['Tenure'].unique()"
      ]
    },
    {
      "cell_type": "code",
      "execution_count": 9,
      "metadata": {
        "colab": {
          "base_uri": "https://localhost:8080/"
        },
        "id": "8_pzY7k5nFJB",
        "outputId": "4ad4eb3c-ceb8-4078-c66a-5f22edc51832"
      },
      "outputs": [
        {
          "output_type": "execute_result",
          "data": {
            "text/plain": [
              "0.0     1291\n",
              "1.0      952\n",
              "2.0      950\n",
              "8.0      933\n",
              "3.0      928\n",
              "5.0      927\n",
              "7.0      925\n",
              "4.0      885\n",
              "9.0      882\n",
              "6.0      881\n",
              "10.0     446\n",
              "Name: Tenure, dtype: int64"
            ]
          },
          "metadata": {},
          "execution_count": 9
        }
      ],
      "source": [
        "df['Tenure'].value_counts()"
      ]
    },
    {
      "cell_type": "code",
      "execution_count": 10,
      "metadata": {
        "colab": {
          "base_uri": "https://localhost:8080/"
        },
        "id": "UHKQKyG0nFJB",
        "outputId": "a2e31b9c-056b-4c23-ad2c-5d91211fcef8"
      },
      "outputs": [
        {
          "output_type": "execute_result",
          "data": {
            "text/plain": [
              "RowNumber          0\n",
              "CustomerId         0\n",
              "Surname            0\n",
              "CreditScore        0\n",
              "Geography          0\n",
              "Gender             0\n",
              "Age                0\n",
              "Tenure             0\n",
              "Balance            0\n",
              "NumOfProducts      0\n",
              "HasCrCard          0\n",
              "IsActiveMember     0\n",
              "EstimatedSalary    0\n",
              "Exited             0\n",
              "dtype: int64"
            ]
          },
          "metadata": {},
          "execution_count": 10
        }
      ],
      "source": [
        "df.isna().sum()"
      ]
    },
    {
      "cell_type": "markdown",
      "metadata": {
        "id": "yXpk6eHGnFJC"
      },
      "source": [
        "*Пояснение действий:*\n",
        "1. Заполнил и проверил, остальные данные без замечаний.\n",
        "2. Обнаружил, что в таблице есть ненужные нам данные RowNumber, CustomerId и Surname. Они не пригодятся при исследовании модели, поэтому удалю их.\n",
        "3. Приведу названия столюцов к нижнему регистру."
      ]
    },
    {
      "cell_type": "code",
      "execution_count": 11,
      "metadata": {
        "id": "m_vCUBxMnFJC"
      },
      "outputs": [],
      "source": [
        "df = df.drop(['RowNumber','CustomerId','Surname'], axis=1)"
      ]
    },
    {
      "cell_type": "code",
      "execution_count": 12,
      "metadata": {
        "colab": {
          "base_uri": "https://localhost:8080/"
        },
        "id": "dcGwBrlinFJC",
        "outputId": "60449f13-6b2b-46e0-9715-0b9dce8df73e"
      },
      "outputs": [
        {
          "output_type": "stream",
          "name": "stdout",
          "text": [
            "<class 'pandas.core.frame.DataFrame'>\n",
            "RangeIndex: 10000 entries, 0 to 9999\n",
            "Data columns (total 11 columns):\n",
            " #   Column           Non-Null Count  Dtype  \n",
            "---  ------           --------------  -----  \n",
            " 0   CreditScore      10000 non-null  int64  \n",
            " 1   Geography        10000 non-null  object \n",
            " 2   Gender           10000 non-null  object \n",
            " 3   Age              10000 non-null  int64  \n",
            " 4   Tenure           10000 non-null  float64\n",
            " 5   Balance          10000 non-null  float64\n",
            " 6   NumOfProducts    10000 non-null  int64  \n",
            " 7   HasCrCard        10000 non-null  int64  \n",
            " 8   IsActiveMember   10000 non-null  int64  \n",
            " 9   EstimatedSalary  10000 non-null  float64\n",
            " 10  Exited           10000 non-null  int64  \n",
            "dtypes: float64(3), int64(6), object(2)\n",
            "memory usage: 859.5+ KB\n"
          ]
        }
      ],
      "source": [
        "df.info()"
      ]
    },
    {
      "cell_type": "code",
      "execution_count": 13,
      "metadata": {
        "colab": {
          "base_uri": "https://localhost:8080/"
        },
        "id": "xr3otYXNnFJC",
        "outputId": "6d361305-cece-4c2e-d65c-065af5b4de12"
      },
      "outputs": [
        {
          "output_type": "execute_result",
          "data": {
            "text/plain": [
              "['CreditScore',\n",
              " 'Geography',\n",
              " 'Gender',\n",
              " 'Age',\n",
              " 'Tenure',\n",
              " 'Balance',\n",
              " 'NumOfProducts',\n",
              " 'HasCrCard',\n",
              " 'IsActiveMember',\n",
              " 'EstimatedSalary',\n",
              " 'Exited']"
            ]
          },
          "metadata": {},
          "execution_count": 13
        }
      ],
      "source": [
        "df.columns.tolist()"
      ]
    },
    {
      "cell_type": "code",
      "execution_count": 14,
      "metadata": {
        "scrolled": true,
        "colab": {
          "base_uri": "https://localhost:8080/",
          "height": 206
        },
        "id": "J9d4GDf-nFJC",
        "outputId": "1aaf1ea4-3e72-4aa7-d467-16bc95523eac"
      },
      "outputs": [
        {
          "output_type": "execute_result",
          "data": {
            "text/plain": [
              "   Место в рейтинге geography  gender  age  tenure    balance  numofproducts  \\\n",
              "0               619    France  Female   42     2.0       0.00              1   \n",
              "1               608     Spain  Female   41     1.0   83807.86              1   \n",
              "2               502    France  Female   42     8.0  159660.80              3   \n",
              "3               699    France  Female   39     1.0       0.00              2   \n",
              "4               850     Spain  Female   43     2.0  125510.82              1   \n",
              "\n",
              "   hascrcard  isactivemember  estimatedsalary  exited  \n",
              "0          1               1        101348.88       1  \n",
              "1          0               1        112542.58       0  \n",
              "2          1               0        113931.57       1  \n",
              "3          0               0         93826.63       0  \n",
              "4          1               1         79084.10       0  "
            ],
            "text/html": [
              "\n",
              "  <div id=\"df-17e7660c-b875-462d-82e6-c28c3eeb1ce1\" class=\"colab-df-container\">\n",
              "    <div>\n",
              "<style scoped>\n",
              "    .dataframe tbody tr th:only-of-type {\n",
              "        vertical-align: middle;\n",
              "    }\n",
              "\n",
              "    .dataframe tbody tr th {\n",
              "        vertical-align: top;\n",
              "    }\n",
              "\n",
              "    .dataframe thead th {\n",
              "        text-align: right;\n",
              "    }\n",
              "</style>\n",
              "<table border=\"1\" class=\"dataframe\">\n",
              "  <thead>\n",
              "    <tr style=\"text-align: right;\">\n",
              "      <th></th>\n",
              "      <th>Место в рейтинге</th>\n",
              "      <th>geography</th>\n",
              "      <th>gender</th>\n",
              "      <th>age</th>\n",
              "      <th>tenure</th>\n",
              "      <th>balance</th>\n",
              "      <th>numofproducts</th>\n",
              "      <th>hascrcard</th>\n",
              "      <th>isactivemember</th>\n",
              "      <th>estimatedsalary</th>\n",
              "      <th>exited</th>\n",
              "    </tr>\n",
              "  </thead>\n",
              "  <tbody>\n",
              "    <tr>\n",
              "      <th>0</th>\n",
              "      <td>619</td>\n",
              "      <td>France</td>\n",
              "      <td>Female</td>\n",
              "      <td>42</td>\n",
              "      <td>2.0</td>\n",
              "      <td>0.00</td>\n",
              "      <td>1</td>\n",
              "      <td>1</td>\n",
              "      <td>1</td>\n",
              "      <td>101348.88</td>\n",
              "      <td>1</td>\n",
              "    </tr>\n",
              "    <tr>\n",
              "      <th>1</th>\n",
              "      <td>608</td>\n",
              "      <td>Spain</td>\n",
              "      <td>Female</td>\n",
              "      <td>41</td>\n",
              "      <td>1.0</td>\n",
              "      <td>83807.86</td>\n",
              "      <td>1</td>\n",
              "      <td>0</td>\n",
              "      <td>1</td>\n",
              "      <td>112542.58</td>\n",
              "      <td>0</td>\n",
              "    </tr>\n",
              "    <tr>\n",
              "      <th>2</th>\n",
              "      <td>502</td>\n",
              "      <td>France</td>\n",
              "      <td>Female</td>\n",
              "      <td>42</td>\n",
              "      <td>8.0</td>\n",
              "      <td>159660.80</td>\n",
              "      <td>3</td>\n",
              "      <td>1</td>\n",
              "      <td>0</td>\n",
              "      <td>113931.57</td>\n",
              "      <td>1</td>\n",
              "    </tr>\n",
              "    <tr>\n",
              "      <th>3</th>\n",
              "      <td>699</td>\n",
              "      <td>France</td>\n",
              "      <td>Female</td>\n",
              "      <td>39</td>\n",
              "      <td>1.0</td>\n",
              "      <td>0.00</td>\n",
              "      <td>2</td>\n",
              "      <td>0</td>\n",
              "      <td>0</td>\n",
              "      <td>93826.63</td>\n",
              "      <td>0</td>\n",
              "    </tr>\n",
              "    <tr>\n",
              "      <th>4</th>\n",
              "      <td>850</td>\n",
              "      <td>Spain</td>\n",
              "      <td>Female</td>\n",
              "      <td>43</td>\n",
              "      <td>2.0</td>\n",
              "      <td>125510.82</td>\n",
              "      <td>1</td>\n",
              "      <td>1</td>\n",
              "      <td>1</td>\n",
              "      <td>79084.10</td>\n",
              "      <td>0</td>\n",
              "    </tr>\n",
              "  </tbody>\n",
              "</table>\n",
              "</div>\n",
              "    <div class=\"colab-df-buttons\">\n",
              "\n",
              "  <div class=\"colab-df-container\">\n",
              "    <button class=\"colab-df-convert\" onclick=\"convertToInteractive('df-17e7660c-b875-462d-82e6-c28c3eeb1ce1')\"\n",
              "            title=\"Convert this dataframe to an interactive table.\"\n",
              "            style=\"display:none;\">\n",
              "\n",
              "  <svg xmlns=\"http://www.w3.org/2000/svg\" height=\"24px\" viewBox=\"0 -960 960 960\">\n",
              "    <path d=\"M120-120v-720h720v720H120Zm60-500h600v-160H180v160Zm220 220h160v-160H400v160Zm0 220h160v-160H400v160ZM180-400h160v-160H180v160Zm440 0h160v-160H620v160ZM180-180h160v-160H180v160Zm440 0h160v-160H620v160Z\"/>\n",
              "  </svg>\n",
              "    </button>\n",
              "\n",
              "  <style>\n",
              "    .colab-df-container {\n",
              "      display:flex;\n",
              "      gap: 12px;\n",
              "    }\n",
              "\n",
              "    .colab-df-convert {\n",
              "      background-color: #E8F0FE;\n",
              "      border: none;\n",
              "      border-radius: 50%;\n",
              "      cursor: pointer;\n",
              "      display: none;\n",
              "      fill: #1967D2;\n",
              "      height: 32px;\n",
              "      padding: 0 0 0 0;\n",
              "      width: 32px;\n",
              "    }\n",
              "\n",
              "    .colab-df-convert:hover {\n",
              "      background-color: #E2EBFA;\n",
              "      box-shadow: 0px 1px 2px rgba(60, 64, 67, 0.3), 0px 1px 3px 1px rgba(60, 64, 67, 0.15);\n",
              "      fill: #174EA6;\n",
              "    }\n",
              "\n",
              "    .colab-df-buttons div {\n",
              "      margin-bottom: 4px;\n",
              "    }\n",
              "\n",
              "    [theme=dark] .colab-df-convert {\n",
              "      background-color: #3B4455;\n",
              "      fill: #D2E3FC;\n",
              "    }\n",
              "\n",
              "    [theme=dark] .colab-df-convert:hover {\n",
              "      background-color: #434B5C;\n",
              "      box-shadow: 0px 1px 3px 1px rgba(0, 0, 0, 0.15);\n",
              "      filter: drop-shadow(0px 1px 2px rgba(0, 0, 0, 0.3));\n",
              "      fill: #FFFFFF;\n",
              "    }\n",
              "  </style>\n",
              "\n",
              "    <script>\n",
              "      const buttonEl =\n",
              "        document.querySelector('#df-17e7660c-b875-462d-82e6-c28c3eeb1ce1 button.colab-df-convert');\n",
              "      buttonEl.style.display =\n",
              "        google.colab.kernel.accessAllowed ? 'block' : 'none';\n",
              "\n",
              "      async function convertToInteractive(key) {\n",
              "        const element = document.querySelector('#df-17e7660c-b875-462d-82e6-c28c3eeb1ce1');\n",
              "        const dataTable =\n",
              "          await google.colab.kernel.invokeFunction('convertToInteractive',\n",
              "                                                    [key], {});\n",
              "        if (!dataTable) return;\n",
              "\n",
              "        const docLinkHtml = 'Like what you see? Visit the ' +\n",
              "          '<a target=\"_blank\" href=https://colab.research.google.com/notebooks/data_table.ipynb>data table notebook</a>'\n",
              "          + ' to learn more about interactive tables.';\n",
              "        element.innerHTML = '';\n",
              "        dataTable['output_type'] = 'display_data';\n",
              "        await google.colab.output.renderOutput(dataTable, element);\n",
              "        const docLink = document.createElement('div');\n",
              "        docLink.innerHTML = docLinkHtml;\n",
              "        element.appendChild(docLink);\n",
              "      }\n",
              "    </script>\n",
              "  </div>\n",
              "\n",
              "\n",
              "<div id=\"df-05e869af-f14e-47cc-9724-f029239f1955\">\n",
              "  <button class=\"colab-df-quickchart\" onclick=\"quickchart('df-05e869af-f14e-47cc-9724-f029239f1955')\"\n",
              "            title=\"Suggest charts\"\n",
              "            style=\"display:none;\">\n",
              "\n",
              "<svg xmlns=\"http://www.w3.org/2000/svg\" height=\"24px\"viewBox=\"0 0 24 24\"\n",
              "     width=\"24px\">\n",
              "    <g>\n",
              "        <path d=\"M19 3H5c-1.1 0-2 .9-2 2v14c0 1.1.9 2 2 2h14c1.1 0 2-.9 2-2V5c0-1.1-.9-2-2-2zM9 17H7v-7h2v7zm4 0h-2V7h2v10zm4 0h-2v-4h2v4z\"/>\n",
              "    </g>\n",
              "</svg>\n",
              "  </button>\n",
              "\n",
              "<style>\n",
              "  .colab-df-quickchart {\n",
              "      --bg-color: #E8F0FE;\n",
              "      --fill-color: #1967D2;\n",
              "      --hover-bg-color: #E2EBFA;\n",
              "      --hover-fill-color: #174EA6;\n",
              "      --disabled-fill-color: #AAA;\n",
              "      --disabled-bg-color: #DDD;\n",
              "  }\n",
              "\n",
              "  [theme=dark] .colab-df-quickchart {\n",
              "      --bg-color: #3B4455;\n",
              "      --fill-color: #D2E3FC;\n",
              "      --hover-bg-color: #434B5C;\n",
              "      --hover-fill-color: #FFFFFF;\n",
              "      --disabled-bg-color: #3B4455;\n",
              "      --disabled-fill-color: #666;\n",
              "  }\n",
              "\n",
              "  .colab-df-quickchart {\n",
              "    background-color: var(--bg-color);\n",
              "    border: none;\n",
              "    border-radius: 50%;\n",
              "    cursor: pointer;\n",
              "    display: none;\n",
              "    fill: var(--fill-color);\n",
              "    height: 32px;\n",
              "    padding: 0;\n",
              "    width: 32px;\n",
              "  }\n",
              "\n",
              "  .colab-df-quickchart:hover {\n",
              "    background-color: var(--hover-bg-color);\n",
              "    box-shadow: 0 1px 2px rgba(60, 64, 67, 0.3), 0 1px 3px 1px rgba(60, 64, 67, 0.15);\n",
              "    fill: var(--button-hover-fill-color);\n",
              "  }\n",
              "\n",
              "  .colab-df-quickchart-complete:disabled,\n",
              "  .colab-df-quickchart-complete:disabled:hover {\n",
              "    background-color: var(--disabled-bg-color);\n",
              "    fill: var(--disabled-fill-color);\n",
              "    box-shadow: none;\n",
              "  }\n",
              "\n",
              "  .colab-df-spinner {\n",
              "    border: 2px solid var(--fill-color);\n",
              "    border-color: transparent;\n",
              "    border-bottom-color: var(--fill-color);\n",
              "    animation:\n",
              "      spin 1s steps(1) infinite;\n",
              "  }\n",
              "\n",
              "  @keyframes spin {\n",
              "    0% {\n",
              "      border-color: transparent;\n",
              "      border-bottom-color: var(--fill-color);\n",
              "      border-left-color: var(--fill-color);\n",
              "    }\n",
              "    20% {\n",
              "      border-color: transparent;\n",
              "      border-left-color: var(--fill-color);\n",
              "      border-top-color: var(--fill-color);\n",
              "    }\n",
              "    30% {\n",
              "      border-color: transparent;\n",
              "      border-left-color: var(--fill-color);\n",
              "      border-top-color: var(--fill-color);\n",
              "      border-right-color: var(--fill-color);\n",
              "    }\n",
              "    40% {\n",
              "      border-color: transparent;\n",
              "      border-right-color: var(--fill-color);\n",
              "      border-top-color: var(--fill-color);\n",
              "    }\n",
              "    60% {\n",
              "      border-color: transparent;\n",
              "      border-right-color: var(--fill-color);\n",
              "    }\n",
              "    80% {\n",
              "      border-color: transparent;\n",
              "      border-right-color: var(--fill-color);\n",
              "      border-bottom-color: var(--fill-color);\n",
              "    }\n",
              "    90% {\n",
              "      border-color: transparent;\n",
              "      border-bottom-color: var(--fill-color);\n",
              "    }\n",
              "  }\n",
              "</style>\n",
              "\n",
              "  <script>\n",
              "    async function quickchart(key) {\n",
              "      const quickchartButtonEl =\n",
              "        document.querySelector('#' + key + ' button');\n",
              "      quickchartButtonEl.disabled = true;  // To prevent multiple clicks.\n",
              "      quickchartButtonEl.classList.add('colab-df-spinner');\n",
              "      try {\n",
              "        const charts = await google.colab.kernel.invokeFunction(\n",
              "            'suggestCharts', [key], {});\n",
              "      } catch (error) {\n",
              "        console.error('Error during call to suggestCharts:', error);\n",
              "      }\n",
              "      quickchartButtonEl.classList.remove('colab-df-spinner');\n",
              "      quickchartButtonEl.classList.add('colab-df-quickchart-complete');\n",
              "    }\n",
              "    (() => {\n",
              "      let quickchartButtonEl =\n",
              "        document.querySelector('#df-05e869af-f14e-47cc-9724-f029239f1955 button');\n",
              "      quickchartButtonEl.style.display =\n",
              "        google.colab.kernel.accessAllowed ? 'block' : 'none';\n",
              "    })();\n",
              "  </script>\n",
              "</div>\n",
              "    </div>\n",
              "  </div>\n"
            ]
          },
          "metadata": {},
          "execution_count": 14
        }
      ],
      "source": [
        "df.rename(columns = {'CreditScore':'Место в рейтинге',\n",
        "'Geography':'geography',\n",
        "'Gender':'gender',\n",
        "'Age':'age',\n",
        "'Tenure':'tenure',\n",
        "'Balance':'balance',\n",
        "'NumOfProducts':'numofproducts',\n",
        "'HasCrCard':'hascrcard',\n",
        "'IsActiveMember':'isactivemember',\n",
        "'EstimatedSalary':'estimatedsalary',\n",
        "'Exited':'exited'},\n",
        "inplace = True)\n",
        "\n",
        "df.head()"
      ]
    },
    {
      "cell_type": "markdown",
      "metadata": {
        "id": "kySGr1J6nFJD"
      },
      "source": [
        "**Вывод:**\n",
        "Данные подготовлены к работе."
      ]
    },
    {
      "cell_type": "markdown",
      "metadata": {
        "id": "TF5YL_y4nFJD"
      },
      "source": [
        "## Исследование задачи"
      ]
    },
    {
      "cell_type": "markdown",
      "metadata": {
        "id": "GDAiN8B_nFJD"
      },
      "source": [
        "Научну с защиты от дамми ловушек"
      ]
    },
    {
      "cell_type": "code",
      "execution_count": 15,
      "metadata": {
        "colab": {
          "base_uri": "https://localhost:8080/"
        },
        "id": "DYMScNWRnFJD",
        "outputId": "7b1b4ac8-62b6-4144-dfe4-a72ba716cfe5"
      },
      "outputs": [
        {
          "output_type": "stream",
          "name": "stdout",
          "text": [
            "<class 'pandas.core.frame.DataFrame'>\n",
            "RangeIndex: 10000 entries, 0 to 9999\n",
            "Data columns (total 12 columns):\n",
            " #   Column             Non-Null Count  Dtype  \n",
            "---  ------             --------------  -----  \n",
            " 0   Место в рейтинге   10000 non-null  int64  \n",
            " 1   age                10000 non-null  int64  \n",
            " 2   tenure             10000 non-null  float64\n",
            " 3   balance            10000 non-null  float64\n",
            " 4   numofproducts      10000 non-null  int64  \n",
            " 5   hascrcard          10000 non-null  int64  \n",
            " 6   isactivemember     10000 non-null  int64  \n",
            " 7   estimatedsalary    10000 non-null  float64\n",
            " 8   exited             10000 non-null  int64  \n",
            " 9   geography_Germany  10000 non-null  uint8  \n",
            " 10  geography_Spain    10000 non-null  uint8  \n",
            " 11  gender_Male        10000 non-null  uint8  \n",
            "dtypes: float64(3), int64(6), uint8(3)\n",
            "memory usage: 732.5 KB\n"
          ]
        }
      ],
      "source": [
        "df = pd.get_dummies(df, drop_first=True)\n",
        "df.info()"
      ]
    },
    {
      "cell_type": "markdown",
      "metadata": {
        "id": "gEG6BCSbnFJD"
      },
      "source": [
        "По опыту предудущего проекта проведу разобиение данных по принципу 60/20/20."
      ]
    },
    {
      "cell_type": "code",
      "execution_count": 16,
      "metadata": {
        "colab": {
          "base_uri": "https://localhost:8080/"
        },
        "id": "IxBpU-nGnFJD",
        "outputId": "1d885422-09bf-4c0e-e094-411c20e374c4"
      },
      "outputs": [
        {
          "output_type": "stream",
          "name": "stdout",
          "text": [
            "(6000, 11) (2000, 11) (2000, 11)\n",
            "(6000,) (2000,) (2000,)\n",
            "(6000, 11) (2000, 11)\n"
          ]
        }
      ],
      "source": [
        "target = df['exited']\n",
        "features = df.drop('exited', axis=1)\n",
        "\n",
        "features_train, features_valid, target_train, target_valid = train_test_split(features, target, test_size=0.4,\n",
        "                                                                              random_state=12345)\n",
        "features_valid, features_test, target_valid, target_test = train_test_split(features_valid, target_valid, test_size=0.5,\n",
        "                                                                              random_state=12345 )\n",
        "\n",
        "scaler = StandardScaler()\n",
        "scaler.fit(features_train)\n",
        "features_train_scaled = scaler.transform(features_train, copy=True)\n",
        "features_valid_scaled = scaler.transform(features_valid, copy=True)\n",
        "\n",
        "\n",
        "print(features_train.shape, features_valid.shape, features_test.shape)\n",
        "print(target_train.shape, target_valid.shape, target_test.shape)\n",
        "print(features_train_scaled.shape,features_valid_scaled.shape)\n",
        "\n",
        "features_train = pd.DataFrame(features_train_scaled)\n",
        "features_valid = pd.DataFrame(features_valid_scaled)"
      ]
    },
    {
      "cell_type": "code",
      "execution_count": 17,
      "metadata": {
        "id": "S0ip6qPbnFJF"
      },
      "outputs": [],
      "source": [
        "target_train.reset_index(drop=True,inplace=True)\n",
        "features_test = scaler.transform(features_test)"
      ]
    },
    {
      "cell_type": "code",
      "execution_count": 18,
      "metadata": {
        "scrolled": true,
        "colab": {
          "base_uri": "https://localhost:8080/"
        },
        "id": "4C31fV7WnFJF",
        "outputId": "411cbe8d-5eb1-42e2-89d9-649c4b1c17bd"
      },
      "outputs": [
        {
          "output_type": "execute_result",
          "data": {
            "text/plain": [
              "0    7963\n",
              "1    2037\n",
              "Name: exited, dtype: int64"
            ]
          },
          "metadata": {},
          "execution_count": 18
        }
      ],
      "source": [
        "target.value_counts()"
      ]
    },
    {
      "cell_type": "markdown",
      "metadata": {
        "id": "AC2tN1iZnFJF"
      },
      "source": [
        "Присутствует дисбаланс классов. Посмотрим как покажут себя исследования."
      ]
    },
    {
      "cell_type": "code",
      "execution_count": 21,
      "metadata": {
        "colab": {
          "base_uri": "https://localhost:8080/"
        },
        "id": "u78Xj8WXnFJG",
        "outputId": "37818d45-c3cb-4220-a60c-145897910d78"
      },
      "outputs": [
        {
          "output_type": "stream",
          "name": "stdout",
          "text": [
            "F1 0.3333333333333333\n",
            "CPU times: user 20.5 ms, sys: 7.83 ms, total: 28.3 ms\n",
            "Wall time: 23.3 ms\n"
          ]
        }
      ],
      "source": [
        "%%time\n",
        "\n",
        "model =  LogisticRegression(random_state=12345, solver='liblinear')\n",
        "model.fit(features_train, target_train)\n",
        "predicted_valid = model.predict(features_valid)\n",
        "print('F1', f1_score(target_valid, predicted_valid))"
      ]
    },
    {
      "cell_type": "markdown",
      "metadata": {
        "id": "Kve1ZnrenFJG"
      },
      "source": [
        "*Пояснение действий:*\n",
        "\n",
        "1. Провел исследование методом логистическая регрессия.\n",
        "2. Результат очень низкий из за низкого precision или recall скорее всего. Придется смотреть их.\n"
      ]
    },
    {
      "cell_type": "code",
      "execution_count": 22,
      "metadata": {
        "colab": {
          "base_uri": "https://localhost:8080/"
        },
        "id": "OpkOFU7tnFJH",
        "outputId": "b3c6b585-d709-47ab-de8d-4aca3fad36b9"
      },
      "outputs": [
        {
          "output_type": "stream",
          "name": "stdout",
          "text": [
            "Логистическая регрессия\n",
            "Точность попадания по классам 0.802\n",
            "precision 0.5625\n",
            "recall 0.23684210526315788\n",
            "F1 0.3333333333333333\n",
            "\n",
            "CPU times: user 43.3 ms, sys: 14.9 ms, total: 58.2 ms\n",
            "Wall time: 89.3 ms\n"
          ]
        }
      ],
      "source": [
        "%%time\n",
        "\n",
        "model = LogisticRegression(random_state=12345, solver='liblinear')\n",
        "model.fit(features_train, target_train)\n",
        "predicted_valid = model.predict(features_valid)\n",
        "print('Логистическая регрессия')\n",
        "print('Точность попадания по классам', accuracy_score(target_valid, predicted_valid))\n",
        "print('precision', precision_score(target_valid, predicted_valid))\n",
        "print('recall', recall_score(target_valid, predicted_valid))\n",
        "print('F1', f1_score(target_valid, predicted_valid))\n",
        "print()"
      ]
    },
    {
      "cell_type": "code",
      "execution_count": 23,
      "metadata": {
        "colab": {
          "base_uri": "https://localhost:8080/"
        },
        "id": "hFL9M48XnFJI",
        "outputId": "4fc6fc3b-1a1c-4393-f081-a7b389764bd4"
      },
      "outputs": [
        {
          "output_type": "stream",
          "name": "stdout",
          "text": [
            "AUC-ROC Логистическая регрессия 0.7585652586817002\n"
          ]
        }
      ],
      "source": [
        "model = LogisticRegression(random_state=12345, solver='liblinear')\n",
        "model.fit(features_train, target_train)\n",
        "probabilities_valid = model.predict_proba(features_valid)\n",
        "probabilities_one_valid = probabilities_valid[:, 1]\n",
        "fpr, tpr, thresholds = roc_curve(target_valid, probabilities_one_valid)\n",
        "auc_roc = roc_auc_score(target_valid, probabilities_one_valid)\n",
        "print('AUC-ROC Логистическая регрессия',auc_roc)"
      ]
    },
    {
      "cell_type": "markdown",
      "metadata": {
        "id": "a6MMfBDJnFJI"
      },
      "source": [
        "## Борьба с дисбалансом"
      ]
    },
    {
      "cell_type": "markdown",
      "metadata": {
        "id": "7cPuIB8vnFJI"
      },
      "source": [
        "Для борьбы с дисбалансом классов необходимо изучить модель по взвешиванию классов и исследовать способы изучнения классов."
      ]
    },
    {
      "cell_type": "code",
      "execution_count": 24,
      "metadata": {
        "colab": {
          "base_uri": "https://localhost:8080/"
        },
        "id": "8y9AveKXnFJJ",
        "outputId": "6044140a-32e5-47c6-9d50-3d4f4e40a742"
      },
      "outputs": [
        {
          "output_type": "stream",
          "name": "stdout",
          "text": [
            "Логистическая регрессия\n",
            "Точность попадания по классам 0.701\n",
            "pecision 0.3803191489361702\n",
            "recall 0.6842105263157895\n",
            "F1 0.4888888888888888\n",
            "\n",
            "CPU times: user 35.8 ms, sys: 13 ms, total: 48.7 ms\n",
            "Wall time: 32.4 ms\n"
          ]
        }
      ],
      "source": [
        "%%time\n",
        "model = LogisticRegression(random_state=12345, solver='liblinear', class_weight='balanced')\n",
        "model.fit(features_train, target_train)\n",
        "predicted_valid = model.predict(features_valid)\n",
        "print('Логистическая регрессия')\n",
        "print('Точность попадания по классам', accuracy_score(target_valid, predicted_valid))\n",
        "print('pecision', precision_score(target_valid, predicted_valid))\n",
        "print('recall', recall_score(target_valid, predicted_valid))\n",
        "print('F1', f1_score(target_valid, predicted_valid))\n",
        "print()"
      ]
    },
    {
      "cell_type": "markdown",
      "metadata": {
        "id": "zWHnVf7AnFJJ"
      },
      "source": [
        "*Пояснение действий:*\n",
        "\n",
        "1. Изучил модель по взвешиванию классов.\n",
        "2. F1 сильно возросла в Логистической регрессии.\n",
        "3. Теперь предстоит работа с дисбалансом. Для этого необходимо увеличить значения класса 1 и уменьшить значения класса 0."
      ]
    },
    {
      "cell_type": "code",
      "execution_count": 25,
      "metadata": {
        "colab": {
          "base_uri": "https://localhost:8080/"
        },
        "id": "6kdRgAhsnFJJ",
        "outputId": "69a2e370-73b8-49cd-d897-d561f5addbd9"
      },
      "outputs": [
        {
          "output_type": "stream",
          "name": "stdout",
          "text": [
            "0    4804\n",
            "1    4784\n",
            "Name: exited, dtype: int64\n"
          ]
        }
      ],
      "source": [
        "def upsample(features, target, repeat):\n",
        "    features_zeros = features[target == 0]\n",
        "    features_ones = features[target == 1]\n",
        "    target_zeros = target[target == 0]\n",
        "    target_ones = target[target == 1]\n",
        "\n",
        "    features_upsampled = pd.concat([features_zeros] + [features_ones] * repeat)\n",
        "    target_upsampled = pd.concat([target_zeros] + [target_ones] * repeat)\n",
        "\n",
        "    features_upsampled, target_upsampled = shuffle(\n",
        "        features_upsampled, target_upsampled, random_state=12345)\n",
        "\n",
        "    return features_upsampled, target_upsampled\n",
        "\n",
        "features_upsampled, target_upsampled = upsample(features_train, target_train, 4)\n",
        "\n",
        "print(target_upsampled.value_counts())"
      ]
    },
    {
      "cell_type": "code",
      "execution_count": 26,
      "metadata": {
        "colab": {
          "base_uri": "https://localhost:8080/",
          "height": 206
        },
        "id": "Ob1vUkCtnFJJ",
        "outputId": "ac8ed6bc-8114-454a-d451-ddd4841e82bc"
      },
      "outputs": [
        {
          "output_type": "execute_result",
          "data": {
            "text/plain": [
              "         0         1         2         3         4         5         6   \\\n",
              "0 -0.886751 -0.373192  1.104696  1.232271 -0.891560  0.642466 -1.055187   \n",
              "1  0.608663 -0.183385  1.104696  0.600563 -0.891560 -1.556504 -1.055187   \n",
              "2  2.052152  0.480939 -0.503694  1.027098  0.830152 -1.556504  0.947699   \n",
              "3 -1.457915 -1.417129  0.461340 -1.233163  0.830152  0.642466 -1.055187   \n",
              "4  0.130961 -1.132419 -0.825373  1.140475 -0.891560 -1.556504 -1.055187   \n",
              "\n",
              "         7         8         9         10  \n",
              "0 -0.187705 -0.572475  1.728977  0.907278  \n",
              "1 -0.333945 -0.572475 -0.578377 -1.102198  \n",
              "2  1.503095  1.746802 -0.578377  0.907278  \n",
              "3 -1.071061 -0.572475 -0.578377  0.907278  \n",
              "4  1.524268  1.746802 -0.578377 -1.102198  "
            ],
            "text/html": [
              "\n",
              "  <div id=\"df-bab77d9d-36e5-421f-9dbb-4b77ebce05a8\" class=\"colab-df-container\">\n",
              "    <div>\n",
              "<style scoped>\n",
              "    .dataframe tbody tr th:only-of-type {\n",
              "        vertical-align: middle;\n",
              "    }\n",
              "\n",
              "    .dataframe tbody tr th {\n",
              "        vertical-align: top;\n",
              "    }\n",
              "\n",
              "    .dataframe thead th {\n",
              "        text-align: right;\n",
              "    }\n",
              "</style>\n",
              "<table border=\"1\" class=\"dataframe\">\n",
              "  <thead>\n",
              "    <tr style=\"text-align: right;\">\n",
              "      <th></th>\n",
              "      <th>0</th>\n",
              "      <th>1</th>\n",
              "      <th>2</th>\n",
              "      <th>3</th>\n",
              "      <th>4</th>\n",
              "      <th>5</th>\n",
              "      <th>6</th>\n",
              "      <th>7</th>\n",
              "      <th>8</th>\n",
              "      <th>9</th>\n",
              "      <th>10</th>\n",
              "    </tr>\n",
              "  </thead>\n",
              "  <tbody>\n",
              "    <tr>\n",
              "      <th>0</th>\n",
              "      <td>-0.886751</td>\n",
              "      <td>-0.373192</td>\n",
              "      <td>1.104696</td>\n",
              "      <td>1.232271</td>\n",
              "      <td>-0.891560</td>\n",
              "      <td>0.642466</td>\n",
              "      <td>-1.055187</td>\n",
              "      <td>-0.187705</td>\n",
              "      <td>-0.572475</td>\n",
              "      <td>1.728977</td>\n",
              "      <td>0.907278</td>\n",
              "    </tr>\n",
              "    <tr>\n",
              "      <th>1</th>\n",
              "      <td>0.608663</td>\n",
              "      <td>-0.183385</td>\n",
              "      <td>1.104696</td>\n",
              "      <td>0.600563</td>\n",
              "      <td>-0.891560</td>\n",
              "      <td>-1.556504</td>\n",
              "      <td>-1.055187</td>\n",
              "      <td>-0.333945</td>\n",
              "      <td>-0.572475</td>\n",
              "      <td>-0.578377</td>\n",
              "      <td>-1.102198</td>\n",
              "    </tr>\n",
              "    <tr>\n",
              "      <th>2</th>\n",
              "      <td>2.052152</td>\n",
              "      <td>0.480939</td>\n",
              "      <td>-0.503694</td>\n",
              "      <td>1.027098</td>\n",
              "      <td>0.830152</td>\n",
              "      <td>-1.556504</td>\n",
              "      <td>0.947699</td>\n",
              "      <td>1.503095</td>\n",
              "      <td>1.746802</td>\n",
              "      <td>-0.578377</td>\n",
              "      <td>0.907278</td>\n",
              "    </tr>\n",
              "    <tr>\n",
              "      <th>3</th>\n",
              "      <td>-1.457915</td>\n",
              "      <td>-1.417129</td>\n",
              "      <td>0.461340</td>\n",
              "      <td>-1.233163</td>\n",
              "      <td>0.830152</td>\n",
              "      <td>0.642466</td>\n",
              "      <td>-1.055187</td>\n",
              "      <td>-1.071061</td>\n",
              "      <td>-0.572475</td>\n",
              "      <td>-0.578377</td>\n",
              "      <td>0.907278</td>\n",
              "    </tr>\n",
              "    <tr>\n",
              "      <th>4</th>\n",
              "      <td>0.130961</td>\n",
              "      <td>-1.132419</td>\n",
              "      <td>-0.825373</td>\n",
              "      <td>1.140475</td>\n",
              "      <td>-0.891560</td>\n",
              "      <td>-1.556504</td>\n",
              "      <td>-1.055187</td>\n",
              "      <td>1.524268</td>\n",
              "      <td>1.746802</td>\n",
              "      <td>-0.578377</td>\n",
              "      <td>-1.102198</td>\n",
              "    </tr>\n",
              "  </tbody>\n",
              "</table>\n",
              "</div>\n",
              "    <div class=\"colab-df-buttons\">\n",
              "\n",
              "  <div class=\"colab-df-container\">\n",
              "    <button class=\"colab-df-convert\" onclick=\"convertToInteractive('df-bab77d9d-36e5-421f-9dbb-4b77ebce05a8')\"\n",
              "            title=\"Convert this dataframe to an interactive table.\"\n",
              "            style=\"display:none;\">\n",
              "\n",
              "  <svg xmlns=\"http://www.w3.org/2000/svg\" height=\"24px\" viewBox=\"0 -960 960 960\">\n",
              "    <path d=\"M120-120v-720h720v720H120Zm60-500h600v-160H180v160Zm220 220h160v-160H400v160Zm0 220h160v-160H400v160ZM180-400h160v-160H180v160Zm440 0h160v-160H620v160ZM180-180h160v-160H180v160Zm440 0h160v-160H620v160Z\"/>\n",
              "  </svg>\n",
              "    </button>\n",
              "\n",
              "  <style>\n",
              "    .colab-df-container {\n",
              "      display:flex;\n",
              "      gap: 12px;\n",
              "    }\n",
              "\n",
              "    .colab-df-convert {\n",
              "      background-color: #E8F0FE;\n",
              "      border: none;\n",
              "      border-radius: 50%;\n",
              "      cursor: pointer;\n",
              "      display: none;\n",
              "      fill: #1967D2;\n",
              "      height: 32px;\n",
              "      padding: 0 0 0 0;\n",
              "      width: 32px;\n",
              "    }\n",
              "\n",
              "    .colab-df-convert:hover {\n",
              "      background-color: #E2EBFA;\n",
              "      box-shadow: 0px 1px 2px rgba(60, 64, 67, 0.3), 0px 1px 3px 1px rgba(60, 64, 67, 0.15);\n",
              "      fill: #174EA6;\n",
              "    }\n",
              "\n",
              "    .colab-df-buttons div {\n",
              "      margin-bottom: 4px;\n",
              "    }\n",
              "\n",
              "    [theme=dark] .colab-df-convert {\n",
              "      background-color: #3B4455;\n",
              "      fill: #D2E3FC;\n",
              "    }\n",
              "\n",
              "    [theme=dark] .colab-df-convert:hover {\n",
              "      background-color: #434B5C;\n",
              "      box-shadow: 0px 1px 3px 1px rgba(0, 0, 0, 0.15);\n",
              "      filter: drop-shadow(0px 1px 2px rgba(0, 0, 0, 0.3));\n",
              "      fill: #FFFFFF;\n",
              "    }\n",
              "  </style>\n",
              "\n",
              "    <script>\n",
              "      const buttonEl =\n",
              "        document.querySelector('#df-bab77d9d-36e5-421f-9dbb-4b77ebce05a8 button.colab-df-convert');\n",
              "      buttonEl.style.display =\n",
              "        google.colab.kernel.accessAllowed ? 'block' : 'none';\n",
              "\n",
              "      async function convertToInteractive(key) {\n",
              "        const element = document.querySelector('#df-bab77d9d-36e5-421f-9dbb-4b77ebce05a8');\n",
              "        const dataTable =\n",
              "          await google.colab.kernel.invokeFunction('convertToInteractive',\n",
              "                                                    [key], {});\n",
              "        if (!dataTable) return;\n",
              "\n",
              "        const docLinkHtml = 'Like what you see? Visit the ' +\n",
              "          '<a target=\"_blank\" href=https://colab.research.google.com/notebooks/data_table.ipynb>data table notebook</a>'\n",
              "          + ' to learn more about interactive tables.';\n",
              "        element.innerHTML = '';\n",
              "        dataTable['output_type'] = 'display_data';\n",
              "        await google.colab.output.renderOutput(dataTable, element);\n",
              "        const docLink = document.createElement('div');\n",
              "        docLink.innerHTML = docLinkHtml;\n",
              "        element.appendChild(docLink);\n",
              "      }\n",
              "    </script>\n",
              "  </div>\n",
              "\n",
              "\n",
              "<div id=\"df-182c7895-0e8a-4258-8e13-74c9a8e0c516\">\n",
              "  <button class=\"colab-df-quickchart\" onclick=\"quickchart('df-182c7895-0e8a-4258-8e13-74c9a8e0c516')\"\n",
              "            title=\"Suggest charts\"\n",
              "            style=\"display:none;\">\n",
              "\n",
              "<svg xmlns=\"http://www.w3.org/2000/svg\" height=\"24px\"viewBox=\"0 0 24 24\"\n",
              "     width=\"24px\">\n",
              "    <g>\n",
              "        <path d=\"M19 3H5c-1.1 0-2 .9-2 2v14c0 1.1.9 2 2 2h14c1.1 0 2-.9 2-2V5c0-1.1-.9-2-2-2zM9 17H7v-7h2v7zm4 0h-2V7h2v10zm4 0h-2v-4h2v4z\"/>\n",
              "    </g>\n",
              "</svg>\n",
              "  </button>\n",
              "\n",
              "<style>\n",
              "  .colab-df-quickchart {\n",
              "      --bg-color: #E8F0FE;\n",
              "      --fill-color: #1967D2;\n",
              "      --hover-bg-color: #E2EBFA;\n",
              "      --hover-fill-color: #174EA6;\n",
              "      --disabled-fill-color: #AAA;\n",
              "      --disabled-bg-color: #DDD;\n",
              "  }\n",
              "\n",
              "  [theme=dark] .colab-df-quickchart {\n",
              "      --bg-color: #3B4455;\n",
              "      --fill-color: #D2E3FC;\n",
              "      --hover-bg-color: #434B5C;\n",
              "      --hover-fill-color: #FFFFFF;\n",
              "      --disabled-bg-color: #3B4455;\n",
              "      --disabled-fill-color: #666;\n",
              "  }\n",
              "\n",
              "  .colab-df-quickchart {\n",
              "    background-color: var(--bg-color);\n",
              "    border: none;\n",
              "    border-radius: 50%;\n",
              "    cursor: pointer;\n",
              "    display: none;\n",
              "    fill: var(--fill-color);\n",
              "    height: 32px;\n",
              "    padding: 0;\n",
              "    width: 32px;\n",
              "  }\n",
              "\n",
              "  .colab-df-quickchart:hover {\n",
              "    background-color: var(--hover-bg-color);\n",
              "    box-shadow: 0 1px 2px rgba(60, 64, 67, 0.3), 0 1px 3px 1px rgba(60, 64, 67, 0.15);\n",
              "    fill: var(--button-hover-fill-color);\n",
              "  }\n",
              "\n",
              "  .colab-df-quickchart-complete:disabled,\n",
              "  .colab-df-quickchart-complete:disabled:hover {\n",
              "    background-color: var(--disabled-bg-color);\n",
              "    fill: var(--disabled-fill-color);\n",
              "    box-shadow: none;\n",
              "  }\n",
              "\n",
              "  .colab-df-spinner {\n",
              "    border: 2px solid var(--fill-color);\n",
              "    border-color: transparent;\n",
              "    border-bottom-color: var(--fill-color);\n",
              "    animation:\n",
              "      spin 1s steps(1) infinite;\n",
              "  }\n",
              "\n",
              "  @keyframes spin {\n",
              "    0% {\n",
              "      border-color: transparent;\n",
              "      border-bottom-color: var(--fill-color);\n",
              "      border-left-color: var(--fill-color);\n",
              "    }\n",
              "    20% {\n",
              "      border-color: transparent;\n",
              "      border-left-color: var(--fill-color);\n",
              "      border-top-color: var(--fill-color);\n",
              "    }\n",
              "    30% {\n",
              "      border-color: transparent;\n",
              "      border-left-color: var(--fill-color);\n",
              "      border-top-color: var(--fill-color);\n",
              "      border-right-color: var(--fill-color);\n",
              "    }\n",
              "    40% {\n",
              "      border-color: transparent;\n",
              "      border-right-color: var(--fill-color);\n",
              "      border-top-color: var(--fill-color);\n",
              "    }\n",
              "    60% {\n",
              "      border-color: transparent;\n",
              "      border-right-color: var(--fill-color);\n",
              "    }\n",
              "    80% {\n",
              "      border-color: transparent;\n",
              "      border-right-color: var(--fill-color);\n",
              "      border-bottom-color: var(--fill-color);\n",
              "    }\n",
              "    90% {\n",
              "      border-color: transparent;\n",
              "      border-bottom-color: var(--fill-color);\n",
              "    }\n",
              "  }\n",
              "</style>\n",
              "\n",
              "  <script>\n",
              "    async function quickchart(key) {\n",
              "      const quickchartButtonEl =\n",
              "        document.querySelector('#' + key + ' button');\n",
              "      quickchartButtonEl.disabled = true;  // To prevent multiple clicks.\n",
              "      quickchartButtonEl.classList.add('colab-df-spinner');\n",
              "      try {\n",
              "        const charts = await google.colab.kernel.invokeFunction(\n",
              "            'suggestCharts', [key], {});\n",
              "      } catch (error) {\n",
              "        console.error('Error during call to suggestCharts:', error);\n",
              "      }\n",
              "      quickchartButtonEl.classList.remove('colab-df-spinner');\n",
              "      quickchartButtonEl.classList.add('colab-df-quickchart-complete');\n",
              "    }\n",
              "    (() => {\n",
              "      let quickchartButtonEl =\n",
              "        document.querySelector('#df-182c7895-0e8a-4258-8e13-74c9a8e0c516 button');\n",
              "      quickchartButtonEl.style.display =\n",
              "        google.colab.kernel.accessAllowed ? 'block' : 'none';\n",
              "    })();\n",
              "  </script>\n",
              "</div>\n",
              "    </div>\n",
              "  </div>\n"
            ]
          },
          "metadata": {},
          "execution_count": 26
        }
      ],
      "source": [
        "features_train.head()"
      ]
    },
    {
      "cell_type": "code",
      "execution_count": 27,
      "metadata": {
        "colab": {
          "base_uri": "https://localhost:8080/"
        },
        "id": "Uv9zWiS5nFJJ",
        "outputId": "85bf240b-704e-4807-90bf-c3919aa15345"
      },
      "outputs": [
        {
          "output_type": "execute_result",
          "data": {
            "text/plain": [
              "0    0\n",
              "1    0\n",
              "2    0\n",
              "3    0\n",
              "4    0\n",
              "Name: exited, dtype: int64"
            ]
          },
          "metadata": {},
          "execution_count": 27
        }
      ],
      "source": [
        "target_train.head()"
      ]
    },
    {
      "cell_type": "code",
      "execution_count": 28,
      "metadata": {
        "colab": {
          "base_uri": "https://localhost:8080/"
        },
        "id": "9MUAJQ82nFJK",
        "outputId": "d0c4230c-f07c-474a-8238-416d61e7eec9"
      },
      "outputs": [
        {
          "output_type": "stream",
          "name": "stdout",
          "text": [
            "0    1201\n",
            "1    1196\n",
            "Name: exited, dtype: int64\n"
          ]
        }
      ],
      "source": [
        "def downsample(features, target, fraction):\n",
        "    features_zeros = features[target == 0]\n",
        "    features_ones = features[target == 1]\n",
        "    target_zeros = target[target == 0]\n",
        "    target_ones = target[target == 1]\n",
        "\n",
        "    features_downsampled = pd.concat(\n",
        "        [features_zeros.sample(frac=fraction, random_state=12345)] + [features_ones])\n",
        "    target_downsampled = pd.concat(\n",
        "        [target_zeros.sample(frac=fraction, random_state=12345)] + [target_ones])\n",
        "\n",
        "    features_downsampled, target_downsampled = shuffle(\n",
        "        features_downsampled, target_downsampled, random_state=12345)\n",
        "\n",
        "    return features_downsampled, target_downsampled\n",
        "\n",
        "features_downsampled, target_downsampled = downsample(features_train, target_train, 0.25)\n",
        "\n",
        "print(target_downsampled.value_counts())"
      ]
    },
    {
      "cell_type": "code",
      "execution_count": 29,
      "metadata": {
        "colab": {
          "base_uri": "https://localhost:8080/"
        },
        "id": "LSF9G6WsnFJK",
        "outputId": "041bca07-e53d-4984-cf13-778f20ffe076"
      },
      "outputs": [
        {
          "output_type": "stream",
          "name": "stdout",
          "text": [
            "Логистическая регрессия\n",
            "Точность попадания по классам 0.802\n",
            "precision 0.5625\n",
            "recall 0.23684210526315788\n",
            "F1 0.3333333333333333\n",
            "\n",
            "CPU times: user 36.7 ms, sys: 14 ms, total: 50.7 ms\n",
            "Wall time: 115 ms\n"
          ]
        }
      ],
      "source": [
        "%%time\n",
        "model = LogisticRegression(random_state=12345, solver='liblinear')\n",
        "model.fit(features_train, target_train)\n",
        "predicted_valid = model.predict(features_valid)\n",
        "print('Логистическая регрессия')\n",
        "print('Точность попадания по классам', accuracy_score(target_valid, predicted_valid))\n",
        "print('precision', precision_score(target_valid, predicted_valid))\n",
        "print('recall', recall_score(target_valid, predicted_valid))\n",
        "print('F1', f1_score(target_valid, predicted_valid))\n",
        "print()"
      ]
    },
    {
      "cell_type": "markdown",
      "metadata": {
        "id": "zzeL6KnenFJK"
      },
      "source": [
        "**Выводы**\n",
        "1. Выполнил борьбу с дисбалансом"
      ]
    }
  ],
  "metadata": {
    "ExecuteTimeLog": [
      {
        "duration": 963,
        "start_time": "2022-03-14T12:37:33.128Z"
      },
      {
        "duration": 3237,
        "start_time": "2022-03-14T12:37:34.092Z"
      },
      {
        "duration": -162,
        "start_time": "2022-03-14T12:37:37.492Z"
      },
      {
        "duration": 27,
        "start_time": "2022-03-14T12:38:58.842Z"
      },
      {
        "duration": 346,
        "start_time": "2022-03-14T12:39:01.083Z"
      },
      {
        "duration": 261,
        "start_time": "2022-03-14T12:39:08.995Z"
      },
      {
        "duration": 23,
        "start_time": "2022-03-14T12:39:17.459Z"
      },
      {
        "duration": 7,
        "start_time": "2022-03-14T12:44:36.377Z"
      },
      {
        "duration": 17,
        "start_time": "2022-03-14T12:44:41.235Z"
      },
      {
        "duration": 6,
        "start_time": "2022-03-14T12:44:49.862Z"
      },
      {
        "duration": 12,
        "start_time": "2022-03-14T12:45:26.596Z"
      },
      {
        "duration": 248,
        "start_time": "2022-03-14T12:46:44.732Z"
      },
      {
        "duration": 8,
        "start_time": "2022-03-14T12:46:49.499Z"
      },
      {
        "duration": 281,
        "start_time": "2022-03-14T12:47:29.996Z"
      },
      {
        "duration": 6,
        "start_time": "2022-03-14T12:47:34.782Z"
      },
      {
        "duration": 100,
        "start_time": "2022-03-14T12:47:52.659Z"
      },
      {
        "duration": 6,
        "start_time": "2022-03-14T12:47:58.299Z"
      },
      {
        "duration": 4,
        "start_time": "2022-03-14T12:48:24.335Z"
      },
      {
        "duration": 5,
        "start_time": "2022-03-14T12:49:15.939Z"
      },
      {
        "duration": 5,
        "start_time": "2022-03-14T12:49:36.077Z"
      },
      {
        "duration": 6,
        "start_time": "2022-03-14T12:50:05.684Z"
      },
      {
        "duration": 6,
        "start_time": "2022-03-14T12:50:15.307Z"
      },
      {
        "duration": 5,
        "start_time": "2022-03-14T12:50:28.820Z"
      },
      {
        "duration": 947,
        "start_time": "2022-03-14T12:50:41.942Z"
      },
      {
        "duration": 28,
        "start_time": "2022-03-14T12:50:42.891Z"
      },
      {
        "duration": 23,
        "start_time": "2022-03-14T12:50:42.920Z"
      },
      {
        "duration": 12,
        "start_time": "2022-03-14T12:50:42.945Z"
      },
      {
        "duration": 15,
        "start_time": "2022-03-14T12:50:42.959Z"
      },
      {
        "duration": 19,
        "start_time": "2022-03-14T12:50:42.976Z"
      },
      {
        "duration": 10,
        "start_time": "2022-03-14T12:50:42.996Z"
      },
      {
        "duration": 10,
        "start_time": "2022-03-14T12:50:43.008Z"
      },
      {
        "duration": 13,
        "start_time": "2022-03-14T12:50:43.020Z"
      },
      {
        "duration": 6,
        "start_time": "2022-03-14T12:51:29.810Z"
      },
      {
        "duration": 5,
        "start_time": "2022-03-14T12:51:47.521Z"
      },
      {
        "duration": 5,
        "start_time": "2022-03-14T12:51:57.698Z"
      },
      {
        "duration": 6,
        "start_time": "2022-03-14T12:52:00.266Z"
      },
      {
        "duration": 7,
        "start_time": "2022-03-14T12:53:21.153Z"
      },
      {
        "duration": 387,
        "start_time": "2022-03-14T12:59:31.567Z"
      },
      {
        "duration": 288,
        "start_time": "2022-03-14T12:59:36.498Z"
      },
      {
        "duration": 5,
        "start_time": "2022-03-14T12:59:47.793Z"
      },
      {
        "duration": 7,
        "start_time": "2022-03-14T13:00:09.514Z"
      },
      {
        "duration": 298,
        "start_time": "2022-03-14T13:03:04.210Z"
      },
      {
        "duration": 4,
        "start_time": "2022-03-14T13:06:25.435Z"
      },
      {
        "duration": 625,
        "start_time": "2022-03-14T13:09:50.699Z"
      },
      {
        "duration": 416,
        "start_time": "2022-03-14T13:10:22.067Z"
      },
      {
        "duration": 468,
        "start_time": "2022-03-14T13:10:33.468Z"
      },
      {
        "duration": 10698,
        "start_time": "2022-03-14T13:10:43.827Z"
      },
      {
        "duration": 10589,
        "start_time": "2022-03-14T13:12:07.132Z"
      },
      {
        "duration": 308,
        "start_time": "2022-03-14T13:12:49.815Z"
      },
      {
        "duration": 485,
        "start_time": "2022-03-14T13:12:56.371Z"
      },
      {
        "duration": 356,
        "start_time": "2022-03-14T13:13:09.596Z"
      },
      {
        "duration": 341,
        "start_time": "2022-03-14T13:14:38.837Z"
      },
      {
        "duration": 10431,
        "start_time": "2022-03-14T13:14:46.420Z"
      },
      {
        "duration": 342,
        "start_time": "2022-03-14T13:15:24.068Z"
      },
      {
        "duration": 329,
        "start_time": "2022-03-14T13:15:31.275Z"
      },
      {
        "duration": 10984,
        "start_time": "2022-03-14T13:15:37.085Z"
      },
      {
        "duration": 427,
        "start_time": "2022-03-14T13:16:07.164Z"
      },
      {
        "duration": 203,
        "start_time": "2022-03-14T13:20:27.965Z"
      },
      {
        "duration": 12,
        "start_time": "2022-03-14T13:20:39.435Z"
      },
      {
        "duration": 113,
        "start_time": "2022-03-14T13:21:28.719Z"
      },
      {
        "duration": 450,
        "start_time": "2022-03-14T13:21:37.692Z"
      },
      {
        "duration": 12,
        "start_time": "2022-03-14T13:22:52.293Z"
      },
      {
        "duration": 12,
        "start_time": "2022-03-14T13:24:33.942Z"
      },
      {
        "duration": 410,
        "start_time": "2022-03-14T13:30:16.446Z"
      },
      {
        "duration": 12,
        "start_time": "2022-03-14T13:30:26.265Z"
      },
      {
        "duration": 7,
        "start_time": "2022-03-14T13:33:58.609Z"
      },
      {
        "duration": 179,
        "start_time": "2022-03-14T13:34:52.165Z"
      },
      {
        "duration": 71,
        "start_time": "2022-03-14T13:35:19.160Z"
      },
      {
        "duration": 1078,
        "start_time": "2022-03-14T13:35:24.812Z"
      },
      {
        "duration": 39,
        "start_time": "2022-03-14T13:35:25.892Z"
      },
      {
        "duration": 22,
        "start_time": "2022-03-14T13:35:25.933Z"
      },
      {
        "duration": 6,
        "start_time": "2022-03-14T13:35:25.957Z"
      },
      {
        "duration": 11,
        "start_time": "2022-03-14T13:35:25.965Z"
      },
      {
        "duration": 12,
        "start_time": "2022-03-14T13:35:25.978Z"
      },
      {
        "duration": 20,
        "start_time": "2022-03-14T13:35:25.992Z"
      },
      {
        "duration": 8,
        "start_time": "2022-03-14T13:35:26.014Z"
      },
      {
        "duration": 23,
        "start_time": "2022-03-14T13:35:26.023Z"
      },
      {
        "duration": 14,
        "start_time": "2022-03-14T13:35:26.047Z"
      },
      {
        "duration": 7,
        "start_time": "2022-03-14T13:35:26.063Z"
      },
      {
        "duration": 27,
        "start_time": "2022-03-14T13:35:26.071Z"
      },
      {
        "duration": 6,
        "start_time": "2022-03-14T13:35:26.100Z"
      },
      {
        "duration": 24,
        "start_time": "2022-03-14T13:35:26.108Z"
      },
      {
        "duration": 10,
        "start_time": "2022-03-14T13:35:26.134Z"
      },
      {
        "duration": 7,
        "start_time": "2022-03-14T13:35:26.145Z"
      },
      {
        "duration": 712,
        "start_time": "2022-03-14T13:35:26.153Z"
      },
      {
        "duration": 182,
        "start_time": "2022-03-14T13:36:31.502Z"
      },
      {
        "duration": 18,
        "start_time": "2022-03-14T13:40:18.215Z"
      },
      {
        "duration": 1101,
        "start_time": "2022-03-14T13:40:23.618Z"
      },
      {
        "duration": 39,
        "start_time": "2022-03-14T13:40:24.720Z"
      },
      {
        "duration": 19,
        "start_time": "2022-03-14T13:40:24.761Z"
      },
      {
        "duration": 8,
        "start_time": "2022-03-14T13:40:24.782Z"
      },
      {
        "duration": 5,
        "start_time": "2022-03-14T13:40:24.792Z"
      },
      {
        "duration": 9,
        "start_time": "2022-03-14T13:40:24.799Z"
      },
      {
        "duration": 6,
        "start_time": "2022-03-14T13:40:24.810Z"
      },
      {
        "duration": 4,
        "start_time": "2022-03-14T13:40:24.819Z"
      },
      {
        "duration": 8,
        "start_time": "2022-03-14T13:40:24.825Z"
      },
      {
        "duration": 6,
        "start_time": "2022-03-14T13:40:24.834Z"
      },
      {
        "duration": 11,
        "start_time": "2022-03-14T13:40:24.842Z"
      },
      {
        "duration": 8,
        "start_time": "2022-03-14T13:40:24.881Z"
      },
      {
        "duration": 8,
        "start_time": "2022-03-14T13:40:24.890Z"
      },
      {
        "duration": 14,
        "start_time": "2022-03-14T13:40:24.900Z"
      },
      {
        "duration": 15,
        "start_time": "2022-03-14T13:40:24.916Z"
      },
      {
        "duration": 10,
        "start_time": "2022-03-14T13:40:24.933Z"
      },
      {
        "duration": 8,
        "start_time": "2022-03-14T13:40:24.945Z"
      },
      {
        "duration": 123,
        "start_time": "2022-03-14T13:40:24.980Z"
      },
      {
        "duration": 126,
        "start_time": "2022-03-14T13:41:34.103Z"
      },
      {
        "duration": 401,
        "start_time": "2022-03-14T13:42:49.351Z"
      },
      {
        "duration": 400,
        "start_time": "2022-03-14T13:42:55.766Z"
      },
      {
        "duration": 25561,
        "start_time": "2022-03-14T13:45:02.024Z"
      },
      {
        "duration": 11311,
        "start_time": "2022-03-14T13:45:35.373Z"
      },
      {
        "duration": 24149,
        "start_time": "2022-03-14T13:46:48.680Z"
      },
      {
        "duration": 22901,
        "start_time": "2022-03-14T13:50:43.746Z"
      },
      {
        "duration": 33,
        "start_time": "2022-03-14T13:53:40.941Z"
      },
      {
        "duration": 10,
        "start_time": "2022-03-14T13:55:26.633Z"
      },
      {
        "duration": 1197,
        "start_time": "2022-03-14T14:01:08.201Z"
      },
      {
        "duration": 1216,
        "start_time": "2022-03-14T14:03:52.969Z"
      },
      {
        "duration": 1209,
        "start_time": "2022-03-14T14:08:31.080Z"
      },
      {
        "duration": 1135,
        "start_time": "2022-03-14T14:15:01.652Z"
      },
      {
        "duration": 1366,
        "start_time": "2022-03-14T14:15:29.119Z"
      },
      {
        "duration": 15,
        "start_time": "2022-03-14T14:23:13.607Z"
      },
      {
        "duration": 20,
        "start_time": "2022-03-14T14:24:15.892Z"
      },
      {
        "duration": 15,
        "start_time": "2022-03-14T14:24:33.200Z"
      },
      {
        "duration": 1128,
        "start_time": "2022-03-14T14:26:18.459Z"
      },
      {
        "duration": 1004,
        "start_time": "2022-03-14T14:26:45.371Z"
      },
      {
        "duration": 1256,
        "start_time": "2022-03-14T14:28:04.147Z"
      },
      {
        "duration": 1325,
        "start_time": "2022-03-14T14:29:27.656Z"
      },
      {
        "duration": 18575,
        "start_time": "2022-03-14T14:35:36.337Z"
      },
      {
        "duration": 107035,
        "start_time": "2022-03-14T14:36:15.980Z"
      },
      {
        "duration": 16410,
        "start_time": "2022-03-14T14:39:00.211Z"
      },
      {
        "duration": 1782,
        "start_time": "2022-03-14T14:40:33.774Z"
      },
      {
        "duration": 18695,
        "start_time": "2022-03-14T14:41:08.580Z"
      },
      {
        "duration": 16639,
        "start_time": "2022-03-14T14:42:38.171Z"
      },
      {
        "duration": 3961,
        "start_time": "2022-03-14T14:45:09.678Z"
      },
      {
        "duration": 4301,
        "start_time": "2022-03-14T14:45:54.765Z"
      },
      {
        "duration": 1167,
        "start_time": "2022-03-14T14:48:11.546Z"
      },
      {
        "duration": 29,
        "start_time": "2022-03-14T14:48:12.715Z"
      },
      {
        "duration": 420,
        "start_time": "2022-03-14T14:48:12.746Z"
      },
      {
        "duration": 512,
        "start_time": "2022-03-14T14:48:13.168Z"
      },
      {
        "duration": 326,
        "start_time": "2022-03-14T14:48:13.682Z"
      },
      {
        "duration": 363,
        "start_time": "2022-03-14T14:48:14.010Z"
      },
      {
        "duration": 515,
        "start_time": "2022-03-14T14:48:14.375Z"
      },
      {
        "duration": 504,
        "start_time": "2022-03-14T14:48:14.893Z"
      },
      {
        "duration": 763,
        "start_time": "2022-03-14T14:48:15.399Z"
      },
      {
        "duration": 707,
        "start_time": "2022-03-14T14:48:16.164Z"
      },
      {
        "duration": 698,
        "start_time": "2022-03-14T14:48:16.873Z"
      },
      {
        "duration": 506,
        "start_time": "2022-03-14T14:48:17.573Z"
      },
      {
        "duration": 369,
        "start_time": "2022-03-14T14:48:18.081Z"
      },
      {
        "duration": 921,
        "start_time": "2022-03-14T14:48:18.452Z"
      },
      {
        "duration": 984,
        "start_time": "2022-03-14T14:48:19.375Z"
      },
      {
        "duration": 476,
        "start_time": "2022-03-14T14:48:20.361Z"
      },
      {
        "duration": 796,
        "start_time": "2022-03-14T14:48:20.838Z"
      },
      {
        "duration": 1033,
        "start_time": "2022-03-14T14:48:21.636Z"
      },
      {
        "duration": 23307,
        "start_time": "2022-03-14T14:48:22.671Z"
      },
      {
        "duration": 102,
        "start_time": "2022-03-14T14:48:45.981Z"
      },
      {
        "duration": 1053,
        "start_time": "2022-03-14T14:48:46.086Z"
      },
      {
        "duration": 1943,
        "start_time": "2022-03-14T14:48:47.141Z"
      },
      {
        "duration": 1395,
        "start_time": "2022-03-14T14:48:49.087Z"
      },
      {
        "duration": 1307,
        "start_time": "2022-03-14T14:48:50.485Z"
      },
      {
        "duration": 15,
        "start_time": "2022-03-14T14:48:51.880Z"
      },
      {
        "duration": 614,
        "start_time": "2022-03-14T14:48:51.897Z"
      },
      {
        "duration": 1572,
        "start_time": "2022-03-14T14:48:52.513Z"
      },
      {
        "duration": 35062,
        "start_time": "2022-03-14T14:48:54.087Z"
      },
      {
        "duration": 15896,
        "start_time": "2022-03-14T14:49:29.151Z"
      },
      {
        "duration": 1901,
        "start_time": "2022-03-14T14:49:45.049Z"
      },
      {
        "duration": 19368,
        "start_time": "2022-03-14T14:49:46.952Z"
      },
      {
        "duration": 16939,
        "start_time": "2022-03-14T14:50:06.321Z"
      },
      {
        "duration": 3847,
        "start_time": "2022-03-14T14:50:23.261Z"
      },
      {
        "duration": 4496,
        "start_time": "2022-03-14T14:50:27.110Z"
      },
      {
        "duration": 1410,
        "start_time": "2022-03-15T17:50:27.807Z"
      },
      {
        "duration": 33,
        "start_time": "2022-03-15T17:50:29.220Z"
      },
      {
        "duration": 50,
        "start_time": "2022-03-15T17:50:29.257Z"
      },
      {
        "duration": 11,
        "start_time": "2022-03-15T17:50:29.309Z"
      },
      {
        "duration": 18,
        "start_time": "2022-03-15T17:50:29.322Z"
      },
      {
        "duration": 33,
        "start_time": "2022-03-15T17:50:29.342Z"
      },
      {
        "duration": 11,
        "start_time": "2022-03-15T17:50:29.377Z"
      },
      {
        "duration": 9,
        "start_time": "2022-03-15T17:50:29.393Z"
      },
      {
        "duration": 7,
        "start_time": "2022-03-15T17:50:29.405Z"
      },
      {
        "duration": 9,
        "start_time": "2022-03-15T17:50:29.415Z"
      },
      {
        "duration": 49,
        "start_time": "2022-03-15T17:50:29.426Z"
      },
      {
        "duration": 15,
        "start_time": "2022-03-15T17:50:29.478Z"
      },
      {
        "duration": 5,
        "start_time": "2022-03-15T17:50:29.496Z"
      },
      {
        "duration": 23,
        "start_time": "2022-03-15T17:50:29.503Z"
      },
      {
        "duration": 60,
        "start_time": "2022-03-15T17:50:29.528Z"
      },
      {
        "duration": 16,
        "start_time": "2022-03-15T17:50:29.590Z"
      },
      {
        "duration": 16,
        "start_time": "2022-03-15T17:50:29.608Z"
      },
      {
        "duration": 804,
        "start_time": "2022-03-15T17:50:29.626Z"
      },
      {
        "duration": 37202,
        "start_time": "2022-03-15T17:50:30.433Z"
      },
      {
        "duration": 71,
        "start_time": "2022-03-15T17:51:07.638Z"
      },
      {
        "duration": 102,
        "start_time": "2022-03-15T17:51:07.776Z"
      },
      {
        "duration": 2100,
        "start_time": "2022-03-15T17:51:07.881Z"
      },
      {
        "duration": 2191,
        "start_time": "2022-03-15T17:51:09.988Z"
      },
      {
        "duration": 2006,
        "start_time": "2022-03-15T17:51:12.183Z"
      },
      {
        "duration": 23,
        "start_time": "2022-03-15T17:51:14.191Z"
      },
      {
        "duration": 60,
        "start_time": "2022-03-15T17:51:14.217Z"
      },
      {
        "duration": 2200,
        "start_time": "2022-03-15T17:51:14.279Z"
      },
      {
        "duration": 58776,
        "start_time": "2022-03-15T17:51:16.481Z"
      },
      {
        "duration": 26943,
        "start_time": "2022-03-15T17:52:15.259Z"
      },
      {
        "duration": 2979,
        "start_time": "2022-03-15T17:52:42.204Z"
      },
      {
        "duration": 32048,
        "start_time": "2022-03-15T17:52:45.185Z"
      },
      {
        "duration": 28412,
        "start_time": "2022-03-15T17:53:17.236Z"
      },
      {
        "duration": 6496,
        "start_time": "2022-03-15T17:53:45.650Z"
      },
      {
        "duration": 6987,
        "start_time": "2022-03-15T17:53:52.148Z"
      },
      {
        "duration": 70,
        "start_time": "2022-03-15T18:07:54.464Z"
      },
      {
        "duration": 1175,
        "start_time": "2022-03-16T16:11:16.613Z"
      },
      {
        "duration": 26,
        "start_time": "2022-03-16T16:11:17.789Z"
      },
      {
        "duration": 31,
        "start_time": "2022-03-16T16:11:17.817Z"
      },
      {
        "duration": 8,
        "start_time": "2022-03-16T16:11:17.850Z"
      },
      {
        "duration": 7,
        "start_time": "2022-03-16T16:11:17.860Z"
      },
      {
        "duration": 10,
        "start_time": "2022-03-16T16:11:17.869Z"
      },
      {
        "duration": 13,
        "start_time": "2022-03-16T16:11:17.881Z"
      },
      {
        "duration": 44,
        "start_time": "2022-03-16T16:11:17.897Z"
      },
      {
        "duration": 17,
        "start_time": "2022-03-16T16:11:17.943Z"
      },
      {
        "duration": 22,
        "start_time": "2022-03-16T16:11:17.962Z"
      },
      {
        "duration": 24,
        "start_time": "2022-03-16T16:11:17.986Z"
      },
      {
        "duration": 13,
        "start_time": "2022-03-16T16:11:18.012Z"
      },
      {
        "duration": 21,
        "start_time": "2022-03-16T16:11:18.026Z"
      },
      {
        "duration": 31,
        "start_time": "2022-03-16T16:11:18.049Z"
      },
      {
        "duration": 28,
        "start_time": "2022-03-16T16:11:18.083Z"
      },
      {
        "duration": 13,
        "start_time": "2022-03-16T16:11:18.114Z"
      },
      {
        "duration": 10,
        "start_time": "2022-03-16T16:11:18.129Z"
      },
      {
        "duration": 461,
        "start_time": "2022-03-16T16:11:18.141Z"
      },
      {
        "duration": 22965,
        "start_time": "2022-03-16T16:11:18.604Z"
      },
      {
        "duration": 75,
        "start_time": "2022-03-16T16:11:41.571Z"
      },
      {
        "duration": 10,
        "start_time": "2022-03-16T16:11:41.739Z"
      },
      {
        "duration": 1292,
        "start_time": "2022-03-16T16:11:41.751Z"
      },
      {
        "duration": 1391,
        "start_time": "2022-03-16T16:11:43.047Z"
      },
      {
        "duration": 1305,
        "start_time": "2022-03-16T16:11:44.441Z"
      },
      {
        "duration": 18,
        "start_time": "2022-03-16T16:11:45.748Z"
      },
      {
        "duration": 19,
        "start_time": "2022-03-16T16:11:45.768Z"
      },
      {
        "duration": 1353,
        "start_time": "2022-03-16T16:11:45.789Z"
      },
      {
        "duration": 13218,
        "start_time": "2022-03-16T16:11:47.144Z"
      },
      {
        "duration": 16453,
        "start_time": "2022-03-16T16:12:00.364Z"
      },
      {
        "duration": 1866,
        "start_time": "2022-03-16T16:12:16.819Z"
      },
      {
        "duration": 19508,
        "start_time": "2022-03-16T16:12:18.687Z"
      },
      {
        "duration": 17439,
        "start_time": "2022-03-16T16:12:38.196Z"
      },
      {
        "duration": 4150,
        "start_time": "2022-03-16T16:12:55.637Z"
      },
      {
        "duration": 4505,
        "start_time": "2022-03-16T16:12:59.790Z"
      },
      {
        "duration": 3,
        "start_time": "2022-03-16T16:14:57.919Z"
      },
      {
        "duration": 1201,
        "start_time": "2022-03-16T16:15:04.612Z"
      },
      {
        "duration": 26,
        "start_time": "2022-03-16T16:15:05.815Z"
      },
      {
        "duration": 25,
        "start_time": "2022-03-16T16:15:05.843Z"
      },
      {
        "duration": 8,
        "start_time": "2022-03-16T16:15:05.871Z"
      },
      {
        "duration": 10,
        "start_time": "2022-03-16T16:15:05.881Z"
      },
      {
        "duration": 5,
        "start_time": "2022-03-16T16:15:05.893Z"
      },
      {
        "duration": 39,
        "start_time": "2022-03-16T16:15:05.900Z"
      },
      {
        "duration": 8,
        "start_time": "2022-03-16T16:15:05.941Z"
      },
      {
        "duration": 8,
        "start_time": "2022-03-16T16:15:05.951Z"
      },
      {
        "duration": 9,
        "start_time": "2022-03-16T16:15:05.961Z"
      },
      {
        "duration": 6,
        "start_time": "2022-03-16T16:15:05.972Z"
      },
      {
        "duration": 19,
        "start_time": "2022-03-16T16:15:05.979Z"
      },
      {
        "duration": 8,
        "start_time": "2022-03-16T16:15:06.037Z"
      },
      {
        "duration": 11,
        "start_time": "2022-03-16T16:15:06.046Z"
      },
      {
        "duration": 30,
        "start_time": "2022-03-16T16:15:06.059Z"
      },
      {
        "duration": 17,
        "start_time": "2022-03-16T16:15:06.091Z"
      },
      {
        "duration": 30,
        "start_time": "2022-03-16T16:15:06.110Z"
      },
      {
        "duration": 9,
        "start_time": "2022-03-16T16:15:06.141Z"
      },
      {
        "duration": 448,
        "start_time": "2022-03-16T16:15:06.152Z"
      },
      {
        "duration": 22960,
        "start_time": "2022-03-16T16:15:06.601Z"
      },
      {
        "duration": 79,
        "start_time": "2022-03-16T16:15:29.563Z"
      },
      {
        "duration": 95,
        "start_time": "2022-03-16T16:15:29.645Z"
      },
      {
        "duration": 1401,
        "start_time": "2022-03-16T16:15:29.742Z"
      },
      {
        "duration": 1294,
        "start_time": "2022-03-16T16:15:31.145Z"
      },
      {
        "duration": 1300,
        "start_time": "2022-03-16T16:15:32.441Z"
      },
      {
        "duration": 15,
        "start_time": "2022-03-16T16:15:33.743Z"
      },
      {
        "duration": 14,
        "start_time": "2022-03-16T16:15:33.761Z"
      },
      {
        "duration": 1363,
        "start_time": "2022-03-16T16:15:33.777Z"
      },
      {
        "duration": 1175,
        "start_time": "2022-03-16T16:15:48.309Z"
      },
      {
        "duration": 25,
        "start_time": "2022-03-16T16:15:49.486Z"
      },
      {
        "duration": 29,
        "start_time": "2022-03-16T16:15:49.514Z"
      },
      {
        "duration": 8,
        "start_time": "2022-03-16T16:15:49.545Z"
      },
      {
        "duration": 6,
        "start_time": "2022-03-16T16:15:49.555Z"
      },
      {
        "duration": 4,
        "start_time": "2022-03-16T16:15:49.563Z"
      },
      {
        "duration": 9,
        "start_time": "2022-03-16T16:15:49.569Z"
      },
      {
        "duration": 9,
        "start_time": "2022-03-16T16:15:49.579Z"
      },
      {
        "duration": 7,
        "start_time": "2022-03-16T16:15:49.590Z"
      },
      {
        "duration": 40,
        "start_time": "2022-03-16T16:15:49.599Z"
      },
      {
        "duration": 5,
        "start_time": "2022-03-16T16:15:49.640Z"
      },
      {
        "duration": 11,
        "start_time": "2022-03-16T16:15:49.647Z"
      },
      {
        "duration": 5,
        "start_time": "2022-03-16T16:15:49.660Z"
      },
      {
        "duration": 16,
        "start_time": "2022-03-16T16:15:49.667Z"
      },
      {
        "duration": 17,
        "start_time": "2022-03-16T16:15:49.685Z"
      },
      {
        "duration": 38,
        "start_time": "2022-03-16T16:15:49.704Z"
      },
      {
        "duration": 5,
        "start_time": "2022-03-16T16:15:49.744Z"
      },
      {
        "duration": 445,
        "start_time": "2022-03-16T16:15:49.750Z"
      },
      {
        "duration": 23369,
        "start_time": "2022-03-16T16:15:50.197Z"
      },
      {
        "duration": 73,
        "start_time": "2022-03-16T16:16:13.568Z"
      },
      {
        "duration": 101,
        "start_time": "2022-03-16T16:16:13.645Z"
      },
      {
        "duration": 1309,
        "start_time": "2022-03-16T16:16:13.747Z"
      },
      {
        "duration": 1402,
        "start_time": "2022-03-16T16:16:15.138Z"
      },
      {
        "duration": 1307,
        "start_time": "2022-03-16T16:16:16.542Z"
      },
      {
        "duration": 16,
        "start_time": "2022-03-16T16:16:17.850Z"
      },
      {
        "duration": 77,
        "start_time": "2022-03-16T16:16:17.867Z"
      },
      {
        "duration": 1293,
        "start_time": "2022-03-16T16:16:17.947Z"
      },
      {
        "duration": 13342,
        "start_time": "2022-03-16T16:16:19.241Z"
      },
      {
        "duration": 16265,
        "start_time": "2022-03-16T16:16:32.584Z"
      },
      {
        "duration": 1870,
        "start_time": "2022-03-16T16:16:48.851Z"
      },
      {
        "duration": 19530,
        "start_time": "2022-03-16T16:16:50.723Z"
      },
      {
        "duration": 17456,
        "start_time": "2022-03-16T16:17:10.255Z"
      },
      {
        "duration": 4031,
        "start_time": "2022-03-16T16:17:27.713Z"
      },
      {
        "duration": 4185,
        "start_time": "2022-03-16T16:17:31.746Z"
      },
      {
        "duration": 11,
        "start_time": "2022-03-16T16:30:47.095Z"
      },
      {
        "duration": 65,
        "start_time": "2022-03-17T09:20:53.243Z"
      },
      {
        "duration": 1858,
        "start_time": "2022-03-17T09:20:58.339Z"
      },
      {
        "duration": 50,
        "start_time": "2022-03-17T09:21:00.199Z"
      },
      {
        "duration": 26,
        "start_time": "2022-03-17T09:21:00.251Z"
      },
      {
        "duration": 15,
        "start_time": "2022-03-17T09:21:00.279Z"
      },
      {
        "duration": 11,
        "start_time": "2022-03-17T09:21:00.297Z"
      },
      {
        "duration": 28,
        "start_time": "2022-03-17T09:21:00.334Z"
      },
      {
        "duration": 12,
        "start_time": "2022-03-17T09:21:00.364Z"
      },
      {
        "duration": 14,
        "start_time": "2022-03-17T09:21:00.378Z"
      },
      {
        "duration": 21,
        "start_time": "2022-03-17T09:21:00.394Z"
      },
      {
        "duration": 25,
        "start_time": "2022-03-17T09:21:00.417Z"
      },
      {
        "duration": 15,
        "start_time": "2022-03-17T09:21:00.444Z"
      },
      {
        "duration": 20,
        "start_time": "2022-03-17T09:21:00.461Z"
      },
      {
        "duration": 5,
        "start_time": "2022-03-17T09:21:00.483Z"
      },
      {
        "duration": 18,
        "start_time": "2022-03-17T09:21:00.492Z"
      },
      {
        "duration": 56,
        "start_time": "2022-03-17T09:21:00.512Z"
      },
      {
        "duration": 136,
        "start_time": "2022-03-17T09:21:00.570Z"
      },
      {
        "duration": 0,
        "start_time": "2022-03-17T09:21:00.708Z"
      },
      {
        "duration": 0,
        "start_time": "2022-03-17T09:21:00.710Z"
      },
      {
        "duration": 0,
        "start_time": "2022-03-17T09:21:00.711Z"
      },
      {
        "duration": 0,
        "start_time": "2022-03-17T09:21:00.712Z"
      },
      {
        "duration": 0,
        "start_time": "2022-03-17T09:21:00.713Z"
      },
      {
        "duration": 0,
        "start_time": "2022-03-17T09:21:00.715Z"
      },
      {
        "duration": 0,
        "start_time": "2022-03-17T09:21:00.715Z"
      },
      {
        "duration": 0,
        "start_time": "2022-03-17T09:21:00.717Z"
      },
      {
        "duration": 0,
        "start_time": "2022-03-17T09:21:00.718Z"
      },
      {
        "duration": 0,
        "start_time": "2022-03-17T09:21:00.731Z"
      },
      {
        "duration": 0,
        "start_time": "2022-03-17T09:21:00.732Z"
      },
      {
        "duration": 0,
        "start_time": "2022-03-17T09:21:00.733Z"
      },
      {
        "duration": 0,
        "start_time": "2022-03-17T09:21:00.734Z"
      },
      {
        "duration": 0,
        "start_time": "2022-03-17T09:21:00.735Z"
      },
      {
        "duration": 0,
        "start_time": "2022-03-17T09:21:00.740Z"
      },
      {
        "duration": 0,
        "start_time": "2022-03-17T09:21:00.741Z"
      },
      {
        "duration": 0,
        "start_time": "2022-03-17T09:21:00.743Z"
      },
      {
        "duration": 0,
        "start_time": "2022-03-17T09:21:00.744Z"
      },
      {
        "duration": 22,
        "start_time": "2022-03-17T09:22:32.904Z"
      },
      {
        "duration": 1521,
        "start_time": "2022-03-17T09:29:38.167Z"
      },
      {
        "duration": 35,
        "start_time": "2022-03-17T09:29:39.690Z"
      },
      {
        "duration": 30,
        "start_time": "2022-03-17T09:29:39.727Z"
      },
      {
        "duration": 16,
        "start_time": "2022-03-17T09:29:39.760Z"
      },
      {
        "duration": 11,
        "start_time": "2022-03-17T09:29:39.778Z"
      },
      {
        "duration": 11,
        "start_time": "2022-03-17T09:29:39.792Z"
      },
      {
        "duration": 11,
        "start_time": "2022-03-17T09:29:39.833Z"
      },
      {
        "duration": 14,
        "start_time": "2022-03-17T09:29:39.847Z"
      },
      {
        "duration": 8,
        "start_time": "2022-03-17T09:29:39.864Z"
      },
      {
        "duration": 8,
        "start_time": "2022-03-17T09:29:39.875Z"
      },
      {
        "duration": 6,
        "start_time": "2022-03-17T09:29:39.885Z"
      },
      {
        "duration": 14,
        "start_time": "2022-03-17T09:29:39.893Z"
      },
      {
        "duration": 9,
        "start_time": "2022-03-17T09:29:39.934Z"
      },
      {
        "duration": 23,
        "start_time": "2022-03-17T09:29:39.945Z"
      },
      {
        "duration": 30,
        "start_time": "2022-03-17T09:29:39.970Z"
      },
      {
        "duration": 56,
        "start_time": "2022-03-17T09:29:40.002Z"
      },
      {
        "duration": 6,
        "start_time": "2022-03-17T09:29:40.060Z"
      },
      {
        "duration": 485,
        "start_time": "2022-03-17T09:29:40.068Z"
      },
      {
        "duration": 29119,
        "start_time": "2022-03-17T09:29:40.555Z"
      },
      {
        "duration": 60,
        "start_time": "2022-03-17T09:30:09.676Z"
      },
      {
        "duration": 14,
        "start_time": "2022-03-17T09:30:09.739Z"
      },
      {
        "duration": 1498,
        "start_time": "2022-03-17T09:30:09.755Z"
      },
      {
        "duration": 1408,
        "start_time": "2022-03-17T09:30:11.332Z"
      },
      {
        "duration": 1591,
        "start_time": "2022-03-17T09:30:12.744Z"
      },
      {
        "duration": 139,
        "start_time": "2022-03-17T09:30:14.337Z"
      },
      {
        "duration": 0,
        "start_time": "2022-03-17T09:30:14.479Z"
      },
      {
        "duration": 0,
        "start_time": "2022-03-17T09:30:14.480Z"
      },
      {
        "duration": 0,
        "start_time": "2022-03-17T09:30:14.481Z"
      },
      {
        "duration": 0,
        "start_time": "2022-03-17T09:30:14.483Z"
      },
      {
        "duration": 0,
        "start_time": "2022-03-17T09:30:14.485Z"
      },
      {
        "duration": 0,
        "start_time": "2022-03-17T09:30:14.486Z"
      },
      {
        "duration": 0,
        "start_time": "2022-03-17T09:30:14.488Z"
      },
      {
        "duration": 0,
        "start_time": "2022-03-17T09:30:14.490Z"
      },
      {
        "duration": 0,
        "start_time": "2022-03-17T09:30:14.491Z"
      },
      {
        "duration": 20,
        "start_time": "2022-03-17T09:30:42.412Z"
      },
      {
        "duration": 17,
        "start_time": "2022-03-17T09:32:14.945Z"
      },
      {
        "duration": 19,
        "start_time": "2022-03-17T09:32:37.103Z"
      },
      {
        "duration": 20,
        "start_time": "2022-03-17T09:33:41.477Z"
      },
      {
        "duration": 18,
        "start_time": "2022-03-17T09:33:53.395Z"
      },
      {
        "duration": 17,
        "start_time": "2022-03-17T09:35:26.751Z"
      },
      {
        "duration": 16,
        "start_time": "2022-03-17T09:36:43.404Z"
      },
      {
        "duration": 18,
        "start_time": "2022-03-17T09:37:06.743Z"
      },
      {
        "duration": 20,
        "start_time": "2022-03-17T09:37:08.227Z"
      },
      {
        "duration": 1447,
        "start_time": "2022-03-17T09:37:10.204Z"
      },
      {
        "duration": 162,
        "start_time": "2022-03-17T09:37:13.756Z"
      },
      {
        "duration": 15,
        "start_time": "2022-03-17T09:37:38.068Z"
      },
      {
        "duration": 1598,
        "start_time": "2022-03-17T09:37:42.309Z"
      },
      {
        "duration": 39,
        "start_time": "2022-03-17T09:37:43.909Z"
      },
      {
        "duration": 26,
        "start_time": "2022-03-17T09:37:43.950Z"
      },
      {
        "duration": 13,
        "start_time": "2022-03-17T09:37:43.978Z"
      },
      {
        "duration": 8,
        "start_time": "2022-03-17T09:37:43.992Z"
      },
      {
        "duration": 53,
        "start_time": "2022-03-17T09:37:44.002Z"
      },
      {
        "duration": 14,
        "start_time": "2022-03-17T09:37:44.057Z"
      },
      {
        "duration": 6,
        "start_time": "2022-03-17T09:37:44.072Z"
      },
      {
        "duration": 7,
        "start_time": "2022-03-17T09:37:44.080Z"
      },
      {
        "duration": 8,
        "start_time": "2022-03-17T09:37:44.091Z"
      },
      {
        "duration": 4,
        "start_time": "2022-03-17T09:37:44.101Z"
      },
      {
        "duration": 36,
        "start_time": "2022-03-17T09:37:44.107Z"
      },
      {
        "duration": 4,
        "start_time": "2022-03-17T09:37:44.145Z"
      },
      {
        "duration": 19,
        "start_time": "2022-03-17T09:37:44.151Z"
      },
      {
        "duration": 26,
        "start_time": "2022-03-17T09:37:44.172Z"
      },
      {
        "duration": 37,
        "start_time": "2022-03-17T09:37:44.199Z"
      },
      {
        "duration": 8,
        "start_time": "2022-03-17T09:37:44.238Z"
      },
      {
        "duration": 554,
        "start_time": "2022-03-17T09:37:44.248Z"
      },
      {
        "duration": 28207,
        "start_time": "2022-03-17T09:37:44.804Z"
      },
      {
        "duration": 124,
        "start_time": "2022-03-17T09:38:13.013Z"
      },
      {
        "duration": 96,
        "start_time": "2022-03-17T09:38:13.139Z"
      },
      {
        "duration": 1600,
        "start_time": "2022-03-17T09:38:13.243Z"
      },
      {
        "duration": 1499,
        "start_time": "2022-03-17T09:38:14.845Z"
      },
      {
        "duration": 1502,
        "start_time": "2022-03-17T09:38:16.431Z"
      },
      {
        "duration": 19,
        "start_time": "2022-03-17T09:38:17.935Z"
      },
      {
        "duration": 83,
        "start_time": "2022-03-17T09:38:17.956Z"
      },
      {
        "duration": 1509,
        "start_time": "2022-03-17T09:38:18.041Z"
      },
      {
        "duration": 15600,
        "start_time": "2022-03-17T09:38:19.555Z"
      },
      {
        "duration": 19286,
        "start_time": "2022-03-17T09:38:35.157Z"
      },
      {
        "duration": 2220,
        "start_time": "2022-03-17T09:38:54.446Z"
      },
      {
        "duration": 22934,
        "start_time": "2022-03-17T09:38:56.669Z"
      },
      {
        "duration": 21197,
        "start_time": "2022-03-17T09:39:19.605Z"
      },
      {
        "duration": 4930,
        "start_time": "2022-03-17T09:39:40.804Z"
      },
      {
        "duration": 5069,
        "start_time": "2022-03-17T09:39:45.735Z"
      },
      {
        "duration": 24,
        "start_time": "2022-03-17T09:40:47.200Z"
      },
      {
        "duration": 21,
        "start_time": "2022-03-17T09:41:49.152Z"
      },
      {
        "duration": 19,
        "start_time": "2022-03-17T09:43:11.649Z"
      },
      {
        "duration": 1683,
        "start_time": "2022-03-17T12:16:39.072Z"
      },
      {
        "duration": 40,
        "start_time": "2022-03-17T12:16:40.757Z"
      },
      {
        "duration": 22,
        "start_time": "2022-03-17T12:16:40.799Z"
      },
      {
        "duration": 11,
        "start_time": "2022-03-17T12:16:40.823Z"
      },
      {
        "duration": 11,
        "start_time": "2022-03-17T12:16:40.835Z"
      },
      {
        "duration": 14,
        "start_time": "2022-03-17T12:16:40.847Z"
      },
      {
        "duration": 20,
        "start_time": "2022-03-17T12:16:40.862Z"
      },
      {
        "duration": 5,
        "start_time": "2022-03-17T12:16:40.883Z"
      },
      {
        "duration": 7,
        "start_time": "2022-03-17T12:16:40.889Z"
      },
      {
        "duration": 7,
        "start_time": "2022-03-17T12:16:40.898Z"
      },
      {
        "duration": 4,
        "start_time": "2022-03-17T12:16:40.906Z"
      },
      {
        "duration": 12,
        "start_time": "2022-03-17T12:16:40.911Z"
      },
      {
        "duration": 3,
        "start_time": "2022-03-17T12:16:40.925Z"
      },
      {
        "duration": 11,
        "start_time": "2022-03-17T12:16:40.930Z"
      },
      {
        "duration": 53,
        "start_time": "2022-03-17T12:16:40.942Z"
      },
      {
        "duration": 19,
        "start_time": "2022-03-17T12:16:40.997Z"
      },
      {
        "duration": 5,
        "start_time": "2022-03-17T12:16:41.017Z"
      },
      {
        "duration": 252,
        "start_time": "2022-03-17T12:16:41.023Z"
      },
      {
        "duration": 168,
        "start_time": "2022-03-17T12:16:41.276Z"
      },
      {
        "duration": 179,
        "start_time": "2022-03-17T12:16:41.445Z"
      },
      {
        "duration": 210,
        "start_time": "2022-03-17T12:16:41.626Z"
      },
      {
        "duration": 184,
        "start_time": "2022-03-17T12:16:41.837Z"
      },
      {
        "duration": 15,
        "start_time": "2022-03-17T12:16:42.023Z"
      },
      {
        "duration": 0,
        "start_time": "2022-03-17T12:16:42.040Z"
      },
      {
        "duration": 0,
        "start_time": "2022-03-17T12:16:42.042Z"
      },
      {
        "duration": 0,
        "start_time": "2022-03-17T12:16:42.043Z"
      },
      {
        "duration": 0,
        "start_time": "2022-03-17T12:16:42.045Z"
      },
      {
        "duration": 0,
        "start_time": "2022-03-17T12:16:42.046Z"
      },
      {
        "duration": 0,
        "start_time": "2022-03-17T12:16:42.047Z"
      },
      {
        "duration": 0,
        "start_time": "2022-03-17T12:16:42.048Z"
      },
      {
        "duration": 0,
        "start_time": "2022-03-17T12:16:42.049Z"
      },
      {
        "duration": 0,
        "start_time": "2022-03-17T12:16:42.050Z"
      },
      {
        "duration": 0,
        "start_time": "2022-03-17T12:16:42.051Z"
      },
      {
        "duration": 0,
        "start_time": "2022-03-17T12:16:42.051Z"
      },
      {
        "duration": 24,
        "start_time": "2022-03-17T12:19:19.763Z"
      },
      {
        "duration": 24,
        "start_time": "2022-03-17T12:19:38.851Z"
      },
      {
        "duration": 18,
        "start_time": "2022-03-17T12:19:44.187Z"
      },
      {
        "duration": 21,
        "start_time": "2022-03-17T12:19:53.049Z"
      },
      {
        "duration": 217,
        "start_time": "2022-03-17T12:20:42.632Z"
      },
      {
        "duration": 22,
        "start_time": "2022-03-17T12:20:46.857Z"
      },
      {
        "duration": 24,
        "start_time": "2022-03-17T12:21:01.884Z"
      },
      {
        "duration": 25,
        "start_time": "2022-03-17T12:21:26.752Z"
      },
      {
        "duration": 19,
        "start_time": "2022-03-17T12:23:41.542Z"
      },
      {
        "duration": 410,
        "start_time": "2022-03-17T12:23:44.072Z"
      },
      {
        "duration": 1465,
        "start_time": "2022-03-17T12:23:51.967Z"
      },
      {
        "duration": 28,
        "start_time": "2022-03-17T12:23:53.433Z"
      },
      {
        "duration": 20,
        "start_time": "2022-03-17T12:23:53.463Z"
      },
      {
        "duration": 10,
        "start_time": "2022-03-17T12:23:53.485Z"
      },
      {
        "duration": 8,
        "start_time": "2022-03-17T12:23:53.497Z"
      },
      {
        "duration": 4,
        "start_time": "2022-03-17T12:23:53.507Z"
      },
      {
        "duration": 11,
        "start_time": "2022-03-17T12:23:53.512Z"
      },
      {
        "duration": 4,
        "start_time": "2022-03-17T12:23:53.525Z"
      },
      {
        "duration": 9,
        "start_time": "2022-03-17T12:23:53.530Z"
      },
      {
        "duration": 8,
        "start_time": "2022-03-17T12:23:53.542Z"
      },
      {
        "duration": 32,
        "start_time": "2022-03-17T12:23:53.551Z"
      },
      {
        "duration": 13,
        "start_time": "2022-03-17T12:23:53.584Z"
      },
      {
        "duration": 3,
        "start_time": "2022-03-17T12:23:53.598Z"
      },
      {
        "duration": 15,
        "start_time": "2022-03-17T12:23:53.603Z"
      },
      {
        "duration": 17,
        "start_time": "2022-03-17T12:23:53.619Z"
      },
      {
        "duration": 17,
        "start_time": "2022-03-17T12:23:53.637Z"
      },
      {
        "duration": 26,
        "start_time": "2022-03-17T12:23:53.655Z"
      },
      {
        "duration": 410,
        "start_time": "2022-03-17T12:23:53.683Z"
      },
      {
        "duration": 22367,
        "start_time": "2022-03-17T12:23:54.094Z"
      },
      {
        "duration": 27,
        "start_time": "2022-03-17T12:24:16.462Z"
      },
      {
        "duration": 99,
        "start_time": "2022-03-17T12:24:16.490Z"
      },
      {
        "duration": 1209,
        "start_time": "2022-03-17T12:24:16.681Z"
      },
      {
        "duration": 1199,
        "start_time": "2022-03-17T12:24:17.891Z"
      },
      {
        "duration": 1400,
        "start_time": "2022-03-17T12:24:19.182Z"
      },
      {
        "duration": 113,
        "start_time": "2022-03-17T12:24:20.584Z"
      },
      {
        "duration": 0,
        "start_time": "2022-03-17T12:24:20.699Z"
      },
      {
        "duration": 0,
        "start_time": "2022-03-17T12:24:20.700Z"
      },
      {
        "duration": 0,
        "start_time": "2022-03-17T12:24:20.701Z"
      },
      {
        "duration": 0,
        "start_time": "2022-03-17T12:24:20.702Z"
      },
      {
        "duration": 0,
        "start_time": "2022-03-17T12:24:20.703Z"
      },
      {
        "duration": 0,
        "start_time": "2022-03-17T12:24:20.704Z"
      },
      {
        "duration": 0,
        "start_time": "2022-03-17T12:24:20.705Z"
      },
      {
        "duration": 0,
        "start_time": "2022-03-17T12:24:20.706Z"
      },
      {
        "duration": 0,
        "start_time": "2022-03-17T12:24:20.707Z"
      },
      {
        "duration": 16,
        "start_time": "2022-03-17T12:37:16.882Z"
      },
      {
        "duration": 1483,
        "start_time": "2022-03-17T12:37:25.225Z"
      },
      {
        "duration": 29,
        "start_time": "2022-03-17T12:37:26.709Z"
      },
      {
        "duration": 22,
        "start_time": "2022-03-17T12:37:26.739Z"
      },
      {
        "duration": 12,
        "start_time": "2022-03-17T12:37:26.762Z"
      },
      {
        "duration": 10,
        "start_time": "2022-03-17T12:37:26.775Z"
      },
      {
        "duration": 5,
        "start_time": "2022-03-17T12:37:26.787Z"
      },
      {
        "duration": 8,
        "start_time": "2022-03-17T12:37:26.794Z"
      },
      {
        "duration": 5,
        "start_time": "2022-03-17T12:37:26.804Z"
      },
      {
        "duration": 7,
        "start_time": "2022-03-17T12:37:26.811Z"
      },
      {
        "duration": 10,
        "start_time": "2022-03-17T12:37:26.821Z"
      },
      {
        "duration": 5,
        "start_time": "2022-03-17T12:37:26.833Z"
      },
      {
        "duration": 14,
        "start_time": "2022-03-17T12:37:26.839Z"
      },
      {
        "duration": 4,
        "start_time": "2022-03-17T12:37:26.881Z"
      },
      {
        "duration": 15,
        "start_time": "2022-03-17T12:37:26.886Z"
      },
      {
        "duration": 20,
        "start_time": "2022-03-17T12:37:26.902Z"
      },
      {
        "duration": 18,
        "start_time": "2022-03-17T12:37:26.923Z"
      },
      {
        "duration": 4,
        "start_time": "2022-03-17T12:37:26.942Z"
      },
      {
        "duration": 418,
        "start_time": "2022-03-17T12:37:26.948Z"
      },
      {
        "duration": 21735,
        "start_time": "2022-03-17T12:37:27.367Z"
      },
      {
        "duration": 79,
        "start_time": "2022-03-17T12:37:49.105Z"
      },
      {
        "duration": 98,
        "start_time": "2022-03-17T12:37:49.186Z"
      },
      {
        "duration": 1296,
        "start_time": "2022-03-17T12:37:49.286Z"
      },
      {
        "duration": 1198,
        "start_time": "2022-03-17T12:37:50.584Z"
      },
      {
        "duration": 1306,
        "start_time": "2022-03-17T12:37:51.785Z"
      },
      {
        "duration": 129,
        "start_time": "2022-03-17T12:37:53.093Z"
      },
      {
        "duration": 0,
        "start_time": "2022-03-17T12:37:53.224Z"
      },
      {
        "duration": 0,
        "start_time": "2022-03-17T12:37:53.225Z"
      },
      {
        "duration": 0,
        "start_time": "2022-03-17T12:37:53.226Z"
      },
      {
        "duration": 0,
        "start_time": "2022-03-17T12:37:53.227Z"
      },
      {
        "duration": 0,
        "start_time": "2022-03-17T12:37:53.228Z"
      },
      {
        "duration": 0,
        "start_time": "2022-03-17T12:37:53.229Z"
      },
      {
        "duration": 0,
        "start_time": "2022-03-17T12:37:53.230Z"
      },
      {
        "duration": 0,
        "start_time": "2022-03-17T12:37:53.232Z"
      },
      {
        "duration": 0,
        "start_time": "2022-03-17T12:37:53.233Z"
      },
      {
        "duration": 18,
        "start_time": "2022-03-17T12:38:11.164Z"
      },
      {
        "duration": 12,
        "start_time": "2022-03-17T12:44:05.656Z"
      },
      {
        "duration": 7,
        "start_time": "2022-03-17T12:44:50.251Z"
      },
      {
        "duration": 9,
        "start_time": "2022-03-17T12:45:08.860Z"
      },
      {
        "duration": 13,
        "start_time": "2022-03-17T12:45:17.701Z"
      },
      {
        "duration": 8,
        "start_time": "2022-03-17T12:45:25.797Z"
      },
      {
        "duration": 11,
        "start_time": "2022-03-17T12:45:35.818Z"
      },
      {
        "duration": 16,
        "start_time": "2022-03-17T12:45:42.525Z"
      },
      {
        "duration": 9,
        "start_time": "2022-03-17T12:46:00.847Z"
      },
      {
        "duration": 26,
        "start_time": "2022-03-17T12:46:45.491Z"
      },
      {
        "duration": 3152,
        "start_time": "2022-03-17T12:47:30.074Z"
      },
      {
        "duration": 2876,
        "start_time": "2022-03-17T12:47:49.711Z"
      },
      {
        "duration": 13,
        "start_time": "2022-03-17T12:50:55.270Z"
      },
      {
        "duration": 16,
        "start_time": "2022-03-17T12:51:35.995Z"
      },
      {
        "duration": 13,
        "start_time": "2022-03-17T12:51:49.654Z"
      },
      {
        "duration": 2917,
        "start_time": "2022-03-17T12:52:21.949Z"
      },
      {
        "duration": 3001,
        "start_time": "2022-03-17T12:52:28.590Z"
      },
      {
        "duration": 13,
        "start_time": "2022-03-17T12:52:44.600Z"
      },
      {
        "duration": 8,
        "start_time": "2022-03-17T12:53:33.009Z"
      },
      {
        "duration": 17,
        "start_time": "2022-03-17T12:53:51.691Z"
      },
      {
        "duration": 18,
        "start_time": "2022-03-17T12:54:34.992Z"
      },
      {
        "duration": 1536,
        "start_time": "2022-03-17T12:59:12.148Z"
      },
      {
        "duration": 29,
        "start_time": "2022-03-17T12:59:13.686Z"
      },
      {
        "duration": 21,
        "start_time": "2022-03-17T12:59:13.716Z"
      },
      {
        "duration": 12,
        "start_time": "2022-03-17T12:59:13.740Z"
      },
      {
        "duration": 8,
        "start_time": "2022-03-17T12:59:13.753Z"
      },
      {
        "duration": 19,
        "start_time": "2022-03-17T12:59:13.762Z"
      },
      {
        "duration": 8,
        "start_time": "2022-03-17T12:59:13.783Z"
      },
      {
        "duration": 4,
        "start_time": "2022-03-17T12:59:13.793Z"
      },
      {
        "duration": 9,
        "start_time": "2022-03-17T12:59:13.799Z"
      },
      {
        "duration": 7,
        "start_time": "2022-03-17T12:59:13.810Z"
      },
      {
        "duration": 4,
        "start_time": "2022-03-17T12:59:13.819Z"
      },
      {
        "duration": 13,
        "start_time": "2022-03-17T12:59:13.824Z"
      },
      {
        "duration": 3,
        "start_time": "2022-03-17T12:59:13.838Z"
      },
      {
        "duration": 48,
        "start_time": "2022-03-17T12:59:13.843Z"
      },
      {
        "duration": 18,
        "start_time": "2022-03-17T12:59:13.893Z"
      },
      {
        "duration": 21,
        "start_time": "2022-03-17T12:59:13.913Z"
      },
      {
        "duration": 4,
        "start_time": "2022-03-17T12:59:13.935Z"
      },
      {
        "duration": 424,
        "start_time": "2022-03-17T12:59:13.941Z"
      },
      {
        "duration": 23033,
        "start_time": "2022-03-17T12:59:14.367Z"
      },
      {
        "duration": 179,
        "start_time": "2022-03-17T12:59:37.401Z"
      },
      {
        "duration": 13,
        "start_time": "2022-03-17T12:59:37.582Z"
      },
      {
        "duration": 1291,
        "start_time": "2022-03-17T12:59:37.597Z"
      },
      {
        "duration": 1192,
        "start_time": "2022-03-17T12:59:38.890Z"
      },
      {
        "duration": 1302,
        "start_time": "2022-03-17T12:59:40.086Z"
      },
      {
        "duration": 99,
        "start_time": "2022-03-17T12:59:41.390Z"
      },
      {
        "duration": 12,
        "start_time": "2022-03-17T12:59:41.491Z"
      },
      {
        "duration": 1280,
        "start_time": "2022-03-17T12:59:41.504Z"
      },
      {
        "duration": 12272,
        "start_time": "2022-03-17T12:59:42.786Z"
      },
      {
        "duration": 15133,
        "start_time": "2022-03-17T12:59:55.060Z"
      },
      {
        "duration": 1741,
        "start_time": "2022-03-17T13:00:10.195Z"
      },
      {
        "duration": 18273,
        "start_time": "2022-03-17T13:00:11.938Z"
      },
      {
        "duration": 18164,
        "start_time": "2022-03-17T13:00:30.213Z"
      },
      {
        "duration": 3906,
        "start_time": "2022-03-17T13:00:48.381Z"
      },
      {
        "duration": 3951,
        "start_time": "2022-03-17T13:00:52.288Z"
      },
      {
        "duration": 20,
        "start_time": "2022-03-17T13:00:56.241Z"
      },
      {
        "duration": 108,
        "start_time": "2022-03-17T13:00:56.262Z"
      },
      {
        "duration": 13,
        "start_time": "2022-03-17T13:01:00.957Z"
      },
      {
        "duration": 1501,
        "start_time": "2022-03-17T13:01:55.268Z"
      },
      {
        "duration": 41,
        "start_time": "2022-03-17T13:01:56.771Z"
      },
      {
        "duration": 22,
        "start_time": "2022-03-17T13:01:56.814Z"
      },
      {
        "duration": 18,
        "start_time": "2022-03-17T13:01:56.837Z"
      },
      {
        "duration": 7,
        "start_time": "2022-03-17T13:01:56.857Z"
      },
      {
        "duration": 18,
        "start_time": "2022-03-17T13:01:56.865Z"
      },
      {
        "duration": 26,
        "start_time": "2022-03-17T13:01:56.884Z"
      },
      {
        "duration": 13,
        "start_time": "2022-03-17T13:01:56.911Z"
      },
      {
        "duration": 27,
        "start_time": "2022-03-17T13:01:56.925Z"
      },
      {
        "duration": 21,
        "start_time": "2022-03-17T13:01:56.953Z"
      },
      {
        "duration": 13,
        "start_time": "2022-03-17T13:01:56.976Z"
      },
      {
        "duration": 20,
        "start_time": "2022-03-17T13:01:56.990Z"
      },
      {
        "duration": 5,
        "start_time": "2022-03-17T13:01:57.011Z"
      },
      {
        "duration": 30,
        "start_time": "2022-03-17T13:01:57.018Z"
      },
      {
        "duration": 32,
        "start_time": "2022-03-17T13:01:57.049Z"
      },
      {
        "duration": 24,
        "start_time": "2022-03-17T13:01:57.083Z"
      },
      {
        "duration": 17,
        "start_time": "2022-03-17T13:01:57.109Z"
      },
      {
        "duration": 425,
        "start_time": "2022-03-17T13:01:57.128Z"
      },
      {
        "duration": 23260,
        "start_time": "2022-03-17T13:01:57.555Z"
      },
      {
        "duration": 68,
        "start_time": "2022-03-17T13:02:20.817Z"
      },
      {
        "duration": 103,
        "start_time": "2022-03-17T13:02:20.888Z"
      },
      {
        "duration": 1194,
        "start_time": "2022-03-17T13:02:20.993Z"
      },
      {
        "duration": 1200,
        "start_time": "2022-03-17T13:02:22.189Z"
      },
      {
        "duration": 1393,
        "start_time": "2022-03-17T13:02:23.391Z"
      },
      {
        "duration": 13,
        "start_time": "2022-03-17T13:02:24.786Z"
      },
      {
        "duration": 116,
        "start_time": "2022-03-17T13:02:24.800Z"
      },
      {
        "duration": 0,
        "start_time": "2022-03-17T13:02:24.917Z"
      },
      {
        "duration": 0,
        "start_time": "2022-03-17T13:02:24.919Z"
      },
      {
        "duration": 0,
        "start_time": "2022-03-17T13:02:24.920Z"
      },
      {
        "duration": 0,
        "start_time": "2022-03-17T13:02:24.921Z"
      },
      {
        "duration": 0,
        "start_time": "2022-03-17T13:02:24.922Z"
      },
      {
        "duration": 0,
        "start_time": "2022-03-17T13:02:24.923Z"
      },
      {
        "duration": 0,
        "start_time": "2022-03-17T13:02:24.924Z"
      },
      {
        "duration": 0,
        "start_time": "2022-03-17T13:02:24.925Z"
      },
      {
        "duration": 13,
        "start_time": "2022-03-17T13:02:36.855Z"
      },
      {
        "duration": 1256,
        "start_time": "2022-03-17T13:04:46.727Z"
      },
      {
        "duration": 1429,
        "start_time": "2022-03-17T13:05:53.591Z"
      },
      {
        "duration": 40,
        "start_time": "2022-03-17T13:05:55.022Z"
      },
      {
        "duration": 21,
        "start_time": "2022-03-17T13:05:55.064Z"
      },
      {
        "duration": 12,
        "start_time": "2022-03-17T13:05:55.086Z"
      },
      {
        "duration": 8,
        "start_time": "2022-03-17T13:05:55.101Z"
      },
      {
        "duration": 6,
        "start_time": "2022-03-17T13:05:55.111Z"
      },
      {
        "duration": 10,
        "start_time": "2022-03-17T13:05:55.119Z"
      },
      {
        "duration": 6,
        "start_time": "2022-03-17T13:05:55.130Z"
      },
      {
        "duration": 5,
        "start_time": "2022-03-17T13:05:55.137Z"
      },
      {
        "duration": 42,
        "start_time": "2022-03-17T13:05:55.143Z"
      },
      {
        "duration": 4,
        "start_time": "2022-03-17T13:05:55.187Z"
      },
      {
        "duration": 12,
        "start_time": "2022-03-17T13:05:55.193Z"
      },
      {
        "duration": 3,
        "start_time": "2022-03-17T13:05:55.207Z"
      },
      {
        "duration": 12,
        "start_time": "2022-03-17T13:05:55.212Z"
      },
      {
        "duration": 18,
        "start_time": "2022-03-17T13:05:55.225Z"
      },
      {
        "duration": 43,
        "start_time": "2022-03-17T13:05:55.245Z"
      },
      {
        "duration": 5,
        "start_time": "2022-03-17T13:05:55.289Z"
      },
      {
        "duration": 402,
        "start_time": "2022-03-17T13:05:55.295Z"
      },
      {
        "duration": 22624,
        "start_time": "2022-03-17T13:05:55.698Z"
      },
      {
        "duration": 63,
        "start_time": "2022-03-17T13:06:18.324Z"
      },
      {
        "duration": 100,
        "start_time": "2022-03-17T13:06:18.389Z"
      },
      {
        "duration": 1290,
        "start_time": "2022-03-17T13:06:18.490Z"
      },
      {
        "duration": 1200,
        "start_time": "2022-03-17T13:06:19.782Z"
      },
      {
        "duration": 1301,
        "start_time": "2022-03-17T13:06:20.984Z"
      },
      {
        "duration": 180,
        "start_time": "2022-03-17T13:06:22.287Z"
      },
      {
        "duration": 0,
        "start_time": "2022-03-17T13:06:22.469Z"
      },
      {
        "duration": 0,
        "start_time": "2022-03-17T13:06:22.470Z"
      },
      {
        "duration": 0,
        "start_time": "2022-03-17T13:06:22.470Z"
      },
      {
        "duration": 0,
        "start_time": "2022-03-17T13:06:22.480Z"
      },
      {
        "duration": 0,
        "start_time": "2022-03-17T13:06:22.481Z"
      },
      {
        "duration": 0,
        "start_time": "2022-03-17T13:06:22.482Z"
      },
      {
        "duration": 0,
        "start_time": "2022-03-17T13:06:22.483Z"
      },
      {
        "duration": 0,
        "start_time": "2022-03-17T13:06:22.484Z"
      },
      {
        "duration": 0,
        "start_time": "2022-03-17T13:06:22.485Z"
      },
      {
        "duration": 17,
        "start_time": "2022-03-17T13:10:08.113Z"
      },
      {
        "duration": 67,
        "start_time": "2022-03-17T15:46:15.197Z"
      },
      {
        "duration": 2097,
        "start_time": "2022-03-17T15:46:23.054Z"
      },
      {
        "duration": 31,
        "start_time": "2022-03-17T15:46:25.154Z"
      },
      {
        "duration": 30,
        "start_time": "2022-03-17T15:46:25.187Z"
      },
      {
        "duration": 15,
        "start_time": "2022-03-17T15:46:25.219Z"
      },
      {
        "duration": 30,
        "start_time": "2022-03-17T15:46:25.236Z"
      },
      {
        "duration": 5,
        "start_time": "2022-03-17T15:46:25.267Z"
      },
      {
        "duration": 24,
        "start_time": "2022-03-17T15:46:25.274Z"
      },
      {
        "duration": 5,
        "start_time": "2022-03-17T15:46:25.300Z"
      },
      {
        "duration": 10,
        "start_time": "2022-03-17T15:46:25.306Z"
      },
      {
        "duration": 21,
        "start_time": "2022-03-17T15:46:25.317Z"
      },
      {
        "duration": 14,
        "start_time": "2022-03-17T15:46:25.340Z"
      },
      {
        "duration": 35,
        "start_time": "2022-03-17T15:46:25.356Z"
      },
      {
        "duration": 17,
        "start_time": "2022-03-17T15:46:25.393Z"
      },
      {
        "duration": 34,
        "start_time": "2022-03-17T15:46:25.414Z"
      },
      {
        "duration": 29,
        "start_time": "2022-03-17T15:46:25.449Z"
      },
      {
        "duration": 24,
        "start_time": "2022-03-17T15:46:25.480Z"
      },
      {
        "duration": 16,
        "start_time": "2022-03-17T15:46:25.506Z"
      },
      {
        "duration": 10,
        "start_time": "2022-03-17T15:46:25.524Z"
      },
      {
        "duration": 581,
        "start_time": "2022-03-17T15:46:25.536Z"
      },
      {
        "duration": 27004,
        "start_time": "2022-03-17T15:46:26.119Z"
      },
      {
        "duration": 53,
        "start_time": "2022-03-17T15:46:53.125Z"
      },
      {
        "duration": 13,
        "start_time": "2022-03-17T15:46:53.270Z"
      },
      {
        "duration": 1311,
        "start_time": "2022-03-17T15:46:53.364Z"
      },
      {
        "duration": 1388,
        "start_time": "2022-03-17T15:46:54.677Z"
      },
      {
        "duration": 1397,
        "start_time": "2022-03-17T15:46:56.068Z"
      },
      {
        "duration": 130,
        "start_time": "2022-03-17T15:46:57.467Z"
      },
      {
        "duration": 0,
        "start_time": "2022-03-17T15:46:57.599Z"
      },
      {
        "duration": 0,
        "start_time": "2022-03-17T15:46:57.601Z"
      },
      {
        "duration": 0,
        "start_time": "2022-03-17T15:46:57.602Z"
      },
      {
        "duration": 0,
        "start_time": "2022-03-17T15:46:57.603Z"
      },
      {
        "duration": 0,
        "start_time": "2022-03-17T15:46:57.604Z"
      },
      {
        "duration": 0,
        "start_time": "2022-03-17T15:46:57.606Z"
      },
      {
        "duration": 0,
        "start_time": "2022-03-17T15:46:57.607Z"
      },
      {
        "duration": 0,
        "start_time": "2022-03-17T15:46:57.608Z"
      },
      {
        "duration": 0,
        "start_time": "2022-03-17T15:46:57.609Z"
      },
      {
        "duration": 12,
        "start_time": "2022-03-17T15:48:47.113Z"
      },
      {
        "duration": 5,
        "start_time": "2022-03-17T15:49:05.130Z"
      },
      {
        "duration": 1572,
        "start_time": "2022-03-17T15:55:29.727Z"
      },
      {
        "duration": 29,
        "start_time": "2022-03-17T15:55:31.301Z"
      },
      {
        "duration": 24,
        "start_time": "2022-03-17T15:55:31.331Z"
      },
      {
        "duration": 16,
        "start_time": "2022-03-17T15:55:31.357Z"
      },
      {
        "duration": 7,
        "start_time": "2022-03-17T15:55:31.375Z"
      },
      {
        "duration": 12,
        "start_time": "2022-03-17T15:55:31.384Z"
      },
      {
        "duration": 14,
        "start_time": "2022-03-17T15:55:31.398Z"
      },
      {
        "duration": 7,
        "start_time": "2022-03-17T15:55:31.414Z"
      },
      {
        "duration": 14,
        "start_time": "2022-03-17T15:55:31.422Z"
      },
      {
        "duration": 26,
        "start_time": "2022-03-17T15:55:31.438Z"
      },
      {
        "duration": 20,
        "start_time": "2022-03-17T15:55:31.465Z"
      },
      {
        "duration": 23,
        "start_time": "2022-03-17T15:55:31.486Z"
      },
      {
        "duration": 5,
        "start_time": "2022-03-17T15:55:31.511Z"
      },
      {
        "duration": 20,
        "start_time": "2022-03-17T15:55:31.519Z"
      },
      {
        "duration": 32,
        "start_time": "2022-03-17T15:55:31.540Z"
      },
      {
        "duration": 125,
        "start_time": "2022-03-17T15:55:31.575Z"
      },
      {
        "duration": 0,
        "start_time": "2022-03-17T15:55:31.702Z"
      },
      {
        "duration": 0,
        "start_time": "2022-03-17T15:55:31.703Z"
      },
      {
        "duration": 0,
        "start_time": "2022-03-17T15:55:31.704Z"
      },
      {
        "duration": 0,
        "start_time": "2022-03-17T15:55:31.705Z"
      },
      {
        "duration": 0,
        "start_time": "2022-03-17T15:55:31.706Z"
      },
      {
        "duration": 0,
        "start_time": "2022-03-17T15:55:31.707Z"
      },
      {
        "duration": 0,
        "start_time": "2022-03-17T15:55:31.708Z"
      },
      {
        "duration": 0,
        "start_time": "2022-03-17T15:55:31.709Z"
      },
      {
        "duration": 0,
        "start_time": "2022-03-17T15:55:31.710Z"
      },
      {
        "duration": 0,
        "start_time": "2022-03-17T15:55:31.711Z"
      },
      {
        "duration": 0,
        "start_time": "2022-03-17T15:55:31.713Z"
      },
      {
        "duration": 0,
        "start_time": "2022-03-17T15:55:31.714Z"
      },
      {
        "duration": 0,
        "start_time": "2022-03-17T15:55:31.715Z"
      },
      {
        "duration": 0,
        "start_time": "2022-03-17T15:55:31.716Z"
      },
      {
        "duration": 0,
        "start_time": "2022-03-17T15:55:31.717Z"
      },
      {
        "duration": 0,
        "start_time": "2022-03-17T15:55:31.718Z"
      },
      {
        "duration": 0,
        "start_time": "2022-03-17T15:55:31.719Z"
      },
      {
        "duration": 0,
        "start_time": "2022-03-17T15:55:31.720Z"
      },
      {
        "duration": 0,
        "start_time": "2022-03-17T15:55:31.722Z"
      },
      {
        "duration": 0,
        "start_time": "2022-03-17T15:55:31.763Z"
      },
      {
        "duration": 20,
        "start_time": "2022-03-17T15:55:56.597Z"
      },
      {
        "duration": 6,
        "start_time": "2022-03-17T15:56:06.394Z"
      },
      {
        "duration": 422,
        "start_time": "2022-03-17T15:56:06.401Z"
      },
      {
        "duration": 23565,
        "start_time": "2022-03-17T15:56:06.825Z"
      },
      {
        "duration": 76,
        "start_time": "2022-03-17T15:56:30.391Z"
      },
      {
        "duration": 95,
        "start_time": "2022-03-17T15:56:30.470Z"
      },
      {
        "duration": 1400,
        "start_time": "2022-03-17T15:56:30.567Z"
      },
      {
        "duration": 1298,
        "start_time": "2022-03-17T15:56:31.969Z"
      },
      {
        "duration": 1297,
        "start_time": "2022-03-17T15:56:33.269Z"
      },
      {
        "duration": 109,
        "start_time": "2022-03-17T15:56:34.568Z"
      },
      {
        "duration": 0,
        "start_time": "2022-03-17T15:56:34.679Z"
      },
      {
        "duration": 0,
        "start_time": "2022-03-17T15:56:34.680Z"
      },
      {
        "duration": 0,
        "start_time": "2022-03-17T15:56:34.682Z"
      },
      {
        "duration": 0,
        "start_time": "2022-03-17T15:56:34.683Z"
      },
      {
        "duration": 0,
        "start_time": "2022-03-17T15:56:34.684Z"
      },
      {
        "duration": 0,
        "start_time": "2022-03-17T15:56:34.684Z"
      },
      {
        "duration": 0,
        "start_time": "2022-03-17T15:56:34.685Z"
      },
      {
        "duration": 0,
        "start_time": "2022-03-17T15:56:34.686Z"
      },
      {
        "duration": 0,
        "start_time": "2022-03-17T15:56:34.688Z"
      },
      {
        "duration": 0,
        "start_time": "2022-03-17T15:56:34.690Z"
      },
      {
        "duration": 0,
        "start_time": "2022-03-17T15:56:34.691Z"
      },
      {
        "duration": 13,
        "start_time": "2022-03-17T15:57:19.361Z"
      },
      {
        "duration": 5,
        "start_time": "2022-03-17T15:57:21.897Z"
      },
      {
        "duration": 3,
        "start_time": "2022-03-17T15:57:45.733Z"
      },
      {
        "duration": 6,
        "start_time": "2022-03-17T15:59:48.436Z"
      },
      {
        "duration": 14,
        "start_time": "2022-03-17T16:10:38.221Z"
      },
      {
        "duration": 4,
        "start_time": "2022-03-17T16:10:48.427Z"
      },
      {
        "duration": 1579,
        "start_time": "2022-03-17T16:11:04.833Z"
      },
      {
        "duration": 26,
        "start_time": "2022-03-17T16:11:06.414Z"
      },
      {
        "duration": 34,
        "start_time": "2022-03-17T16:11:06.442Z"
      },
      {
        "duration": 16,
        "start_time": "2022-03-17T16:11:06.479Z"
      },
      {
        "duration": 10,
        "start_time": "2022-03-17T16:11:06.497Z"
      },
      {
        "duration": 6,
        "start_time": "2022-03-17T16:11:06.509Z"
      },
      {
        "duration": 9,
        "start_time": "2022-03-17T16:11:06.517Z"
      },
      {
        "duration": 35,
        "start_time": "2022-03-17T16:11:06.528Z"
      },
      {
        "duration": 7,
        "start_time": "2022-03-17T16:11:06.565Z"
      },
      {
        "duration": 9,
        "start_time": "2022-03-17T16:11:06.575Z"
      },
      {
        "duration": 5,
        "start_time": "2022-03-17T16:11:06.585Z"
      },
      {
        "duration": 14,
        "start_time": "2022-03-17T16:11:06.592Z"
      },
      {
        "duration": 3,
        "start_time": "2022-03-17T16:11:06.608Z"
      },
      {
        "duration": 13,
        "start_time": "2022-03-17T16:11:06.613Z"
      },
      {
        "duration": 24,
        "start_time": "2022-03-17T16:11:06.662Z"
      },
      {
        "duration": 20,
        "start_time": "2022-03-17T16:11:06.688Z"
      },
      {
        "duration": 3,
        "start_time": "2022-03-17T16:11:06.710Z"
      },
      {
        "duration": 10,
        "start_time": "2022-03-17T16:11:06.714Z"
      },
      {
        "duration": 471,
        "start_time": "2022-03-17T16:11:06.726Z"
      },
      {
        "duration": 23424,
        "start_time": "2022-03-17T16:11:07.199Z"
      },
      {
        "duration": 47,
        "start_time": "2022-03-17T16:11:30.625Z"
      },
      {
        "duration": 102,
        "start_time": "2022-03-17T16:11:30.674Z"
      },
      {
        "duration": 1298,
        "start_time": "2022-03-17T16:11:30.777Z"
      },
      {
        "duration": 1215,
        "start_time": "2022-03-17T16:11:32.162Z"
      },
      {
        "duration": 1208,
        "start_time": "2022-03-17T16:11:33.464Z"
      },
      {
        "duration": 12,
        "start_time": "2022-03-17T16:11:34.762Z"
      },
      {
        "duration": 15,
        "start_time": "2022-03-17T16:11:34.775Z"
      },
      {
        "duration": 6,
        "start_time": "2022-03-17T16:11:34.793Z"
      },
      {
        "duration": 14,
        "start_time": "2022-03-17T16:11:34.801Z"
      },
      {
        "duration": 1255,
        "start_time": "2022-03-17T16:11:34.817Z"
      },
      {
        "duration": 12860,
        "start_time": "2022-03-17T16:11:36.162Z"
      },
      {
        "duration": 16057,
        "start_time": "2022-03-17T16:11:49.024Z"
      },
      {
        "duration": 1817,
        "start_time": "2022-03-17T16:12:05.084Z"
      },
      {
        "duration": 19844,
        "start_time": "2022-03-17T16:12:06.904Z"
      },
      {
        "duration": 18263,
        "start_time": "2022-03-17T16:12:26.750Z"
      },
      {
        "duration": 4136,
        "start_time": "2022-03-17T16:12:45.016Z"
      },
      {
        "duration": 4057,
        "start_time": "2022-03-17T16:12:49.154Z"
      },
      {
        "duration": 1965,
        "start_time": "2022-03-17T16:15:52.080Z"
      },
      {
        "duration": 33,
        "start_time": "2022-03-17T16:15:54.047Z"
      },
      {
        "duration": 32,
        "start_time": "2022-03-17T16:15:54.082Z"
      },
      {
        "duration": 16,
        "start_time": "2022-03-17T16:15:54.115Z"
      },
      {
        "duration": 9,
        "start_time": "2022-03-17T16:15:54.134Z"
      },
      {
        "duration": 6,
        "start_time": "2022-03-17T16:15:54.163Z"
      },
      {
        "duration": 11,
        "start_time": "2022-03-17T16:15:54.170Z"
      },
      {
        "duration": 7,
        "start_time": "2022-03-17T16:15:54.182Z"
      },
      {
        "duration": 6,
        "start_time": "2022-03-17T16:15:54.190Z"
      },
      {
        "duration": 7,
        "start_time": "2022-03-17T16:15:54.198Z"
      },
      {
        "duration": 4,
        "start_time": "2022-03-17T16:15:54.207Z"
      },
      {
        "duration": 13,
        "start_time": "2022-03-17T16:15:54.213Z"
      },
      {
        "duration": 4,
        "start_time": "2022-03-17T16:15:54.263Z"
      },
      {
        "duration": 12,
        "start_time": "2022-03-17T16:15:54.270Z"
      },
      {
        "duration": 18,
        "start_time": "2022-03-17T16:15:54.284Z"
      },
      {
        "duration": 19,
        "start_time": "2022-03-17T16:15:54.304Z"
      },
      {
        "duration": 2,
        "start_time": "2022-03-17T16:15:54.325Z"
      },
      {
        "duration": 38,
        "start_time": "2022-03-17T16:15:54.329Z"
      },
      {
        "duration": 424,
        "start_time": "2022-03-17T16:15:54.369Z"
      },
      {
        "duration": 28213,
        "start_time": "2022-03-17T16:15:54.794Z"
      },
      {
        "duration": 56,
        "start_time": "2022-03-17T16:16:23.009Z"
      },
      {
        "duration": 99,
        "start_time": "2022-03-17T16:16:23.067Z"
      },
      {
        "duration": 1302,
        "start_time": "2022-03-17T16:16:23.169Z"
      },
      {
        "duration": 1390,
        "start_time": "2022-03-17T16:16:24.473Z"
      },
      {
        "duration": 1300,
        "start_time": "2022-03-17T16:16:25.865Z"
      },
      {
        "duration": 121,
        "start_time": "2022-03-17T16:16:27.167Z"
      },
      {
        "duration": 0,
        "start_time": "2022-03-17T16:16:27.290Z"
      },
      {
        "duration": 0,
        "start_time": "2022-03-17T16:16:27.291Z"
      },
      {
        "duration": 0,
        "start_time": "2022-03-17T16:16:27.293Z"
      },
      {
        "duration": 0,
        "start_time": "2022-03-17T16:16:27.294Z"
      },
      {
        "duration": 0,
        "start_time": "2022-03-17T16:16:27.295Z"
      },
      {
        "duration": 0,
        "start_time": "2022-03-17T16:16:27.297Z"
      },
      {
        "duration": 0,
        "start_time": "2022-03-17T16:16:27.298Z"
      },
      {
        "duration": 1,
        "start_time": "2022-03-17T16:16:27.299Z"
      },
      {
        "duration": 0,
        "start_time": "2022-03-17T16:16:27.301Z"
      },
      {
        "duration": 0,
        "start_time": "2022-03-17T16:16:27.302Z"
      },
      {
        "duration": 0,
        "start_time": "2022-03-17T16:16:27.304Z"
      },
      {
        "duration": 14,
        "start_time": "2022-03-17T16:16:48.708Z"
      },
      {
        "duration": 5,
        "start_time": "2022-03-17T16:16:50.984Z"
      },
      {
        "duration": 1777,
        "start_time": "2022-03-17T16:19:32.310Z"
      },
      {
        "duration": 29,
        "start_time": "2022-03-17T16:19:34.089Z"
      },
      {
        "duration": 23,
        "start_time": "2022-03-17T16:19:34.119Z"
      },
      {
        "duration": 14,
        "start_time": "2022-03-17T16:19:34.144Z"
      },
      {
        "duration": 6,
        "start_time": "2022-03-17T16:19:34.164Z"
      },
      {
        "duration": 5,
        "start_time": "2022-03-17T16:19:34.172Z"
      },
      {
        "duration": 11,
        "start_time": "2022-03-17T16:19:34.179Z"
      },
      {
        "duration": 5,
        "start_time": "2022-03-17T16:19:34.192Z"
      },
      {
        "duration": 7,
        "start_time": "2022-03-17T16:19:34.198Z"
      },
      {
        "duration": 8,
        "start_time": "2022-03-17T16:19:34.207Z"
      },
      {
        "duration": 5,
        "start_time": "2022-03-17T16:19:34.216Z"
      },
      {
        "duration": 52,
        "start_time": "2022-03-17T16:19:34.223Z"
      },
      {
        "duration": 4,
        "start_time": "2022-03-17T16:19:34.277Z"
      },
      {
        "duration": 12,
        "start_time": "2022-03-17T16:19:34.286Z"
      },
      {
        "duration": 21,
        "start_time": "2022-03-17T16:19:34.299Z"
      },
      {
        "duration": 45,
        "start_time": "2022-03-17T16:19:34.322Z"
      },
      {
        "duration": 5,
        "start_time": "2022-03-17T16:19:34.369Z"
      },
      {
        "duration": 8,
        "start_time": "2022-03-17T16:19:34.375Z"
      },
      {
        "duration": 441,
        "start_time": "2022-03-17T16:19:34.384Z"
      },
      {
        "duration": 23042,
        "start_time": "2022-03-17T16:19:34.827Z"
      },
      {
        "duration": 24,
        "start_time": "2022-03-17T16:19:57.870Z"
      },
      {
        "duration": 100,
        "start_time": "2022-03-17T16:19:57.965Z"
      },
      {
        "duration": 1295,
        "start_time": "2022-03-17T16:19:58.067Z"
      },
      {
        "duration": 1299,
        "start_time": "2022-03-17T16:19:59.365Z"
      },
      {
        "duration": 1302,
        "start_time": "2022-03-17T16:20:00.666Z"
      },
      {
        "duration": 100,
        "start_time": "2022-03-17T16:20:01.971Z"
      },
      {
        "duration": 25,
        "start_time": "2022-03-17T16:20:02.073Z"
      },
      {
        "duration": 24,
        "start_time": "2022-03-17T16:20:02.100Z"
      },
      {
        "duration": 24,
        "start_time": "2022-03-17T16:20:02.126Z"
      },
      {
        "duration": 1315,
        "start_time": "2022-03-17T16:20:02.152Z"
      },
      {
        "duration": 13243,
        "start_time": "2022-03-17T16:20:03.469Z"
      },
      {
        "duration": 16040,
        "start_time": "2022-03-17T16:20:16.714Z"
      },
      {
        "duration": 1849,
        "start_time": "2022-03-17T16:20:32.756Z"
      },
      {
        "duration": 19516,
        "start_time": "2022-03-17T16:20:34.607Z"
      },
      {
        "duration": 17156,
        "start_time": "2022-03-17T16:20:54.124Z"
      },
      {
        "duration": 4149,
        "start_time": "2022-03-17T16:21:11.282Z"
      },
      {
        "duration": 4238,
        "start_time": "2022-03-17T16:21:15.433Z"
      }
    ],
    "kernelspec": {
      "display_name": "Python 3 (ipykernel)",
      "language": "python",
      "name": "python3"
    },
    "language_info": {
      "codemirror_mode": {
        "name": "ipython",
        "version": 3
      },
      "file_extension": ".py",
      "mimetype": "text/x-python",
      "name": "python",
      "nbconvert_exporter": "python",
      "pygments_lexer": "ipython3",
      "version": "3.9.5"
    },
    "toc": {
      "base_numbering": 1,
      "nav_menu": {},
      "number_sections": true,
      "sideBar": true,
      "skip_h1_title": true,
      "title_cell": "Содержание",
      "title_sidebar": "Contents",
      "toc_cell": true,
      "toc_position": {
        "height": "calc(100% - 180px)",
        "left": "10px",
        "top": "150px",
        "width": "236px"
      },
      "toc_section_display": true,
      "toc_window_display": true
    },
    "colab": {
      "provenance": []
    }
  },
  "nbformat": 4,
  "nbformat_minor": 0
}